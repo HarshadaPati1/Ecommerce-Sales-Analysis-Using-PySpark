{
 "cells": [
  {
   "cell_type": "code",
   "execution_count": 0,
   "metadata": {
    "application/vnd.databricks.v1+cell": {
     "cellMetadata": {
      "byteLimit": 2048000,
      "rowLimit": 10000
     },
     "inputWidgets": {},
     "nuid": "fa94dd91-f2a7-47a6-8136-41b4f8ef0432",
     "showTitle": false,
     "tableResultSettingsMap": {},
     "title": ""
    }
   },
   "outputs": [
    {
     "output_type": "display_data",
     "data": {
      "text/html": [
       "<style scoped>\n",
       "  .table-result-container {\n",
       "    max-height: 300px;\n",
       "    overflow: auto;\n",
       "  }\n",
       "  table, th, td {\n",
       "    border: 1px solid black;\n",
       "    border-collapse: collapse;\n",
       "  }\n",
       "  th, td {\n",
       "    padding: 5px;\n",
       "  }\n",
       "  th {\n",
       "    text-align: left;\n",
       "  }\n",
       "</style><div class='table-result-container'><table class='table-result'><thead style='background-color: white'><tr><th>order_id</th><th>sale_date</th><th>price</th><th>product_id</th><th>category</th><th>year</th></tr></thead><tbody><tr><td>O1001</td><td>2023-01-15</td><td>120.5</td><td>P101</td><td>Electronics</td><td>2023</td></tr><tr><td>O1001</td><td>2023-01-15</td><td>45.0</td><td>P102</td><td>Books</td><td>2023</td></tr><tr><td>O1001</td><td>2023-01-15</td><td>85.99</td><td>P103</td><td>Clothing</td><td>2023</td></tr><tr><td>O1002</td><td>2023-01-16</td><td>50.0</td><td>P102</td><td>Books</td><td>2023</td></tr><tr><td>O1002</td><td>2023-01-16</td><td>110.0</td><td>P104</td><td>Home</td><td>2023</td></tr><tr><td>O1002</td><td>2023-01-16</td><td>99.99</td><td>P105</td><td>Beauty</td><td>2023</td></tr><tr><td>O1002</td><td>2023-01-16</td><td>210.0</td><td>P101</td><td>Electronics</td><td>2023</td></tr><tr><td>O1003</td><td>2023-01-17</td><td>75.0</td><td>P103</td><td>Clothing</td><td>2023</td></tr><tr><td>O1003</td><td>2023-01-17</td><td>60.0</td><td>P106</td><td>Sports</td><td>2023</td></tr><tr><td>O1004</td><td>2023-01-18</td><td>120.0</td><td>P101</td><td>Electronics</td><td>2023</td></tr><tr><td>O1004</td><td>2023-01-18</td><td>25.0</td><td>P107</td><td>Toys</td><td>2023</td></tr><tr><td>O1004</td><td>2023-01-18</td><td>55.75</td><td>P108</td><td>Clothing</td><td>2023</td></tr><tr><td>O1004</td><td>2023-01-18</td><td>250.0</td><td>P109</td><td>Home</td><td>2023</td></tr><tr><td>O1005</td><td>2023-01-19</td><td>65.0</td><td>P110</td><td>Garden</td><td>2023</td></tr><tr><td>O1005</td><td>2023-01-19</td><td>130.0</td><td>P101</td><td>Electronics</td><td>2023</td></tr><tr><td>O1005</td><td>2023-01-19</td><td>35.5</td><td>P102</td><td>Books</td><td>2023</td></tr><tr><td>O1006</td><td>2023-01-20</td><td>49.99</td><td>P103</td><td>Clothing</td><td>2023</td></tr><tr><td>O1006</td><td>2023-01-20</td><td>15.75</td><td>P104</td><td>Home</td><td>2023</td></tr><tr><td>O1006</td><td>2023-01-20</td><td>99.99</td><td>P105</td><td>Beauty</td><td>2023</td></tr><tr><td>O1007</td><td>2023-01-21</td><td>75.0</td><td>P106</td><td>Sports</td><td>2023</td></tr><tr><td>O1007</td><td>2023-01-21</td><td>20.0</td><td>P107</td><td>Toys</td><td>2023</td></tr><tr><td>O1007</td><td>2023-01-21</td><td>55.75</td><td>P108</td><td>Clothing</td><td>2023</td></tr><tr><td>O1008</td><td>2023-01-22</td><td>250.0</td><td>P109</td><td>Home</td><td>2023</td></tr><tr><td>O1008</td><td>2023-01-22</td><td>65.0</td><td>P110</td><td>Garden</td><td>2023</td></tr><tr><td>O1008</td><td>2023-01-22</td><td>120.5</td><td>P101</td><td>Electronics</td><td>2023</td></tr><tr><td>O1008</td><td>2023-01-22</td><td>45.0</td><td>P102</td><td>Books</td><td>2023</td></tr><tr><td>O1008</td><td>2023-01-22</td><td>85.99</td><td>P103</td><td>Clothing</td><td>2023</td></tr><tr><td>O1009</td><td>2023-01-23</td><td>50.0</td><td>P104</td><td>Home</td><td>2023</td></tr><tr><td>O1009</td><td>2023-01-23</td><td>99.99</td><td>P105</td><td>Beauty</td><td>2023</td></tr><tr><td>O1009</td><td>2023-01-23</td><td>75.0</td><td>P106</td><td>Sports</td><td>2023</td></tr><tr><td>O1009</td><td>2023-01-23</td><td>25.0</td><td>P107</td><td>Toys</td><td>2023</td></tr><tr><td>O1010</td><td>2023-01-24</td><td>55.75</td><td>P108</td><td>Clothing</td><td>2023</td></tr><tr><td>O1010</td><td>2023-01-24</td><td>250.0</td><td>P109</td><td>Home</td><td>2023</td></tr><tr><td>O1010</td><td>2023-01-24</td><td>65.0</td><td>P110</td><td>Garden</td><td>2023</td></tr><tr><td>O1011</td><td>2023-01-25</td><td>120.5</td><td>P101</td><td>Electronics</td><td>2023</td></tr><tr><td>O1011</td><td>2023-01-25</td><td>45.0</td><td>P102</td><td>Books</td><td>2023</td></tr><tr><td>O1011</td><td>2023-01-25</td><td>85.99</td><td>P103</td><td>Clothing</td><td>2023</td></tr><tr><td>O1011</td><td>2023-01-25</td><td>110.0</td><td>P104</td><td>Home</td><td>2023</td></tr><tr><td>O1011</td><td>2023-01-25</td><td>99.99</td><td>P105</td><td>Beauty</td><td>2023</td></tr><tr><td>O1012</td><td>2023-01-26</td><td>75.0</td><td>P106</td><td>Sports</td><td>2023</td></tr><tr><td>O1012</td><td>2023-01-26</td><td>20.0</td><td>P107</td><td>Toys</td><td>2023</td></tr><tr><td>O1012</td><td>2023-01-26</td><td>55.75</td><td>P108</td><td>Clothing</td><td>2023</td></tr><tr><td>O1012</td><td>2023-01-26</td><td>250.0</td><td>P109</td><td>Home</td><td>2023</td></tr><tr><td>O1012</td><td>2023-01-26</td><td>65.0</td><td>P110</td><td>Garden</td><td>2023</td></tr><tr><td>O1013</td><td>2023-01-27</td><td>120.5</td><td>P101</td><td>Electronics</td><td>2023</td></tr><tr><td>O1013</td><td>2023-01-27</td><td>85.99</td><td>P103</td><td>Clothing</td><td>2023</td></tr><tr><td>O1013</td><td>2023-01-27</td><td>99.99</td><td>P105</td><td>Beauty</td><td>2023</td></tr><tr><td>O1013</td><td>2023-01-27</td><td>20.0</td><td>P107</td><td>Toys</td><td>2023</td></tr><tr><td>O1013</td><td>2023-01-27</td><td>250.0</td><td>P109</td><td>Home</td><td>2023</td></tr><tr><td>O1014</td><td>2023-01-28</td><td>45.0</td><td>P102</td><td>Books</td><td>2023</td></tr><tr><td>O1014</td><td>2023-01-28</td><td>110.0</td><td>P104</td><td>Home</td><td>2023</td></tr><tr><td>O1014</td><td>2023-01-28</td><td>75.0</td><td>P106</td><td>Sports</td><td>2023</td></tr><tr><td>O1014</td><td>2023-01-28</td><td>55.75</td><td>P108</td><td>Clothing</td><td>2023</td></tr><tr><td>O1014</td><td>2023-01-28</td><td>65.0</td><td>P110</td><td>Garden</td><td>2023</td></tr></tbody></table></div>"
      ]
     },
     "metadata": {
      "application/vnd.databricks.v1+output": {
       "addedWidgets": {},
       "aggData": [],
       "aggError": "",
       "aggOverflow": false,
       "aggSchema": [],
       "aggSeriesLimitReached": false,
       "aggType": "",
       "arguments": {},
       "columnCustomDisplayInfos": {},
       "data": [
        [
         "O1001",
         "2023-01-15",
         120.5,
         "P101",
         "Electronics",
         2023
        ],
        [
         "O1001",
         "2023-01-15",
         45.0,
         "P102",
         "Books",
         2023
        ],
        [
         "O1001",
         "2023-01-15",
         85.99,
         "P103",
         "Clothing",
         2023
        ],
        [
         "O1002",
         "2023-01-16",
         50.0,
         "P102",
         "Books",
         2023
        ],
        [
         "O1002",
         "2023-01-16",
         110.0,
         "P104",
         "Home",
         2023
        ],
        [
         "O1002",
         "2023-01-16",
         99.99,
         "P105",
         "Beauty",
         2023
        ],
        [
         "O1002",
         "2023-01-16",
         210.0,
         "P101",
         "Electronics",
         2023
        ],
        [
         "O1003",
         "2023-01-17",
         75.0,
         "P103",
         "Clothing",
         2023
        ],
        [
         "O1003",
         "2023-01-17",
         60.0,
         "P106",
         "Sports",
         2023
        ],
        [
         "O1004",
         "2023-01-18",
         120.0,
         "P101",
         "Electronics",
         2023
        ],
        [
         "O1004",
         "2023-01-18",
         25.0,
         "P107",
         "Toys",
         2023
        ],
        [
         "O1004",
         "2023-01-18",
         55.75,
         "P108",
         "Clothing",
         2023
        ],
        [
         "O1004",
         "2023-01-18",
         250.0,
         "P109",
         "Home",
         2023
        ],
        [
         "O1005",
         "2023-01-19",
         65.0,
         "P110",
         "Garden",
         2023
        ],
        [
         "O1005",
         "2023-01-19",
         130.0,
         "P101",
         "Electronics",
         2023
        ],
        [
         "O1005",
         "2023-01-19",
         35.5,
         "P102",
         "Books",
         2023
        ],
        [
         "O1006",
         "2023-01-20",
         49.99,
         "P103",
         "Clothing",
         2023
        ],
        [
         "O1006",
         "2023-01-20",
         15.75,
         "P104",
         "Home",
         2023
        ],
        [
         "O1006",
         "2023-01-20",
         99.99,
         "P105",
         "Beauty",
         2023
        ],
        [
         "O1007",
         "2023-01-21",
         75.0,
         "P106",
         "Sports",
         2023
        ],
        [
         "O1007",
         "2023-01-21",
         20.0,
         "P107",
         "Toys",
         2023
        ],
        [
         "O1007",
         "2023-01-21",
         55.75,
         "P108",
         "Clothing",
         2023
        ],
        [
         "O1008",
         "2023-01-22",
         250.0,
         "P109",
         "Home",
         2023
        ],
        [
         "O1008",
         "2023-01-22",
         65.0,
         "P110",
         "Garden",
         2023
        ],
        [
         "O1008",
         "2023-01-22",
         120.5,
         "P101",
         "Electronics",
         2023
        ],
        [
         "O1008",
         "2023-01-22",
         45.0,
         "P102",
         "Books",
         2023
        ],
        [
         "O1008",
         "2023-01-22",
         85.99,
         "P103",
         "Clothing",
         2023
        ],
        [
         "O1009",
         "2023-01-23",
         50.0,
         "P104",
         "Home",
         2023
        ],
        [
         "O1009",
         "2023-01-23",
         99.99,
         "P105",
         "Beauty",
         2023
        ],
        [
         "O1009",
         "2023-01-23",
         75.0,
         "P106",
         "Sports",
         2023
        ],
        [
         "O1009",
         "2023-01-23",
         25.0,
         "P107",
         "Toys",
         2023
        ],
        [
         "O1010",
         "2023-01-24",
         55.75,
         "P108",
         "Clothing",
         2023
        ],
        [
         "O1010",
         "2023-01-24",
         250.0,
         "P109",
         "Home",
         2023
        ],
        [
         "O1010",
         "2023-01-24",
         65.0,
         "P110",
         "Garden",
         2023
        ],
        [
         "O1011",
         "2023-01-25",
         120.5,
         "P101",
         "Electronics",
         2023
        ],
        [
         "O1011",
         "2023-01-25",
         45.0,
         "P102",
         "Books",
         2023
        ],
        [
         "O1011",
         "2023-01-25",
         85.99,
         "P103",
         "Clothing",
         2023
        ],
        [
         "O1011",
         "2023-01-25",
         110.0,
         "P104",
         "Home",
         2023
        ],
        [
         "O1011",
         "2023-01-25",
         99.99,
         "P105",
         "Beauty",
         2023
        ],
        [
         "O1012",
         "2023-01-26",
         75.0,
         "P106",
         "Sports",
         2023
        ],
        [
         "O1012",
         "2023-01-26",
         20.0,
         "P107",
         "Toys",
         2023
        ],
        [
         "O1012",
         "2023-01-26",
         55.75,
         "P108",
         "Clothing",
         2023
        ],
        [
         "O1012",
         "2023-01-26",
         250.0,
         "P109",
         "Home",
         2023
        ],
        [
         "O1012",
         "2023-01-26",
         65.0,
         "P110",
         "Garden",
         2023
        ],
        [
         "O1013",
         "2023-01-27",
         120.5,
         "P101",
         "Electronics",
         2023
        ],
        [
         "O1013",
         "2023-01-27",
         85.99,
         "P103",
         "Clothing",
         2023
        ],
        [
         "O1013",
         "2023-01-27",
         99.99,
         "P105",
         "Beauty",
         2023
        ],
        [
         "O1013",
         "2023-01-27",
         20.0,
         "P107",
         "Toys",
         2023
        ],
        [
         "O1013",
         "2023-01-27",
         250.0,
         "P109",
         "Home",
         2023
        ],
        [
         "O1014",
         "2023-01-28",
         45.0,
         "P102",
         "Books",
         2023
        ],
        [
         "O1014",
         "2023-01-28",
         110.0,
         "P104",
         "Home",
         2023
        ],
        [
         "O1014",
         "2023-01-28",
         75.0,
         "P106",
         "Sports",
         2023
        ],
        [
         "O1014",
         "2023-01-28",
         55.75,
         "P108",
         "Clothing",
         2023
        ],
        [
         "O1014",
         "2023-01-28",
         65.0,
         "P110",
         "Garden",
         2023
        ]
       ],
       "datasetInfos": [],
       "dbfsResultPath": null,
       "isJsonSchema": true,
       "metadata": {},
       "overflow": false,
       "plotOptions": {
        "customPlotOptions": {},
        "displayType": "table",
        "pivotAggregation": null,
        "pivotColumns": null,
        "xColumns": null,
        "yColumns": null
       },
       "removedWidgets": [],
       "schema": [
        {
         "metadata": "{}",
         "name": "order_id",
         "type": "\"string\""
        },
        {
         "metadata": "{}",
         "name": "sale_date",
         "type": "\"date\""
        },
        {
         "metadata": "{}",
         "name": "price",
         "type": "\"float\""
        },
        {
         "metadata": "{}",
         "name": "product_id",
         "type": "\"string\""
        },
        {
         "metadata": "{}",
         "name": "category",
         "type": "\"string\""
        },
        {
         "metadata": "{}",
         "name": "year",
         "type": "\"integer\""
        }
       ],
       "type": "table"
      }
     },
     "output_type": "display_data"
    }
   ],
   "source": [
    "# Databricks Notebook: 2_Sales_Analysis\n",
    "# This notebook performs KPIs calculations, aggregation over time, and identifies sales trends.\n",
    "\n",
    "from pyspark.sql import SparkSession\n",
    "from pyspark.sql.functions import sum, avg, count, desc\n",
    "\n",
    "spark = SparkSession.builder.appName(\"EcommerceSalesAnalysis\").getOrCreate()\n",
    "\n",
    "# Read the cleaned data from the Delta table\n",
    "df = spark.sql(\"SELECT * FROM ecommerce_sales_cleaned\")\n",
    "display(df)"
   ]
  },
  {
   "cell_type": "code",
   "execution_count": 0,
   "metadata": {
    "application/vnd.databricks.v1+cell": {
     "cellMetadata": {
      "byteLimit": 2048000,
      "rowLimit": 10000
     },
     "inputWidgets": {},
     "nuid": "5ab5ee81-8cac-40a0-b582-b14340eae3ec",
     "showTitle": false,
     "tableResultSettingsMap": {},
     "title": ""
    }
   },
   "outputs": [
    {
     "output_type": "display_data",
     "data": {
      "text/html": [
       "<style scoped>\n",
       "  .table-result-container {\n",
       "    max-height: 300px;\n",
       "    overflow: auto;\n",
       "  }\n",
       "  table, th, td {\n",
       "    border: 1px solid black;\n",
       "    border-collapse: collapse;\n",
       "  }\n",
       "  th, td {\n",
       "    padding: 5px;\n",
       "  }\n",
       "  th {\n",
       "    text-align: left;\n",
       "  }\n",
       "</style><div class='table-result-container'><table class='table-result'><thead style='background-color: white'><tr><th>year</th><th>total_revenue</th></tr></thead><tbody><tr><td>2023</td><td>4895.899982452393</td></tr></tbody></table></div>"
      ]
     },
     "metadata": {
      "application/vnd.databricks.v1+output": {
       "addedWidgets": {},
       "aggData": [],
       "aggError": "",
       "aggOverflow": false,
       "aggSchema": [],
       "aggSeriesLimitReached": false,
       "aggType": "",
       "arguments": {},
       "columnCustomDisplayInfos": {},
       "data": [
        [
         2023,
         4895.899982452393
        ]
       ],
       "datasetInfos": [],
       "dbfsResultPath": null,
       "isJsonSchema": true,
       "metadata": {},
       "overflow": false,
       "plotOptions": {
        "customPlotOptions": {},
        "displayType": "table",
        "pivotAggregation": null,
        "pivotColumns": null,
        "xColumns": null,
        "yColumns": null
       },
       "removedWidgets": [],
       "schema": [
        {
         "metadata": "{}",
         "name": "year",
         "type": "\"integer\""
        },
        {
         "metadata": "{}",
         "name": "total_revenue",
         "type": "\"double\""
        }
       ],
       "type": "table"
      }
     },
     "output_type": "display_data"
    }
   ],
   "source": [
    "# Compute total revenue per year\n",
    "revenue_per_year = df.groupBy(\"year\").agg(sum(\"price\").alias(\"total_revenue\"))\n",
    "display(revenue_per_year)"
   ]
  },
  {
   "cell_type": "code",
   "execution_count": 0,
   "metadata": {
    "application/vnd.databricks.v1+cell": {
     "cellMetadata": {
      "byteLimit": 2048000,
      "rowLimit": 10000
     },
     "inputWidgets": {},
     "nuid": "4ace4909-dc8f-4f87-86b1-7e3a2ef3ef97",
     "showTitle": false,
     "tableResultSettingsMap": {},
     "title": ""
    }
   },
   "outputs": [
    {
     "output_type": "display_data",
     "data": {
      "text/html": [
       "<style scoped>\n",
       "  .table-result-container {\n",
       "    max-height: 300px;\n",
       "    overflow: auto;\n",
       "  }\n",
       "  table, th, td {\n",
       "    border: 1px solid black;\n",
       "    border-collapse: collapse;\n",
       "  }\n",
       "  th, td {\n",
       "    padding: 5px;\n",
       "  }\n",
       "  th {\n",
       "    text-align: left;\n",
       "  }\n",
       "</style><div class='table-result-container'><table class='table-result'><thead style='background-color: white'><tr><th>category</th><th>total_orders</th><th>avg_order_value</th></tr></thead><tbody><tr><td>Clothing</td><td>11</td><td>67.97272664850408</td></tr><tr><td>Home</td><td>10</td><td>164.575</td></tr><tr><td>Electronics</td><td>7</td><td>134.57142857142858</td></tr><tr><td>Books</td><td>6</td><td>44.25</td></tr><tr><td>Sports</td><td>5</td><td>72.0</td></tr><tr><td>Garden</td><td>5</td><td>65.0</td></tr><tr><td>Beauty</td><td>5</td><td>99.98999786376953</td></tr><tr><td>Toys</td><td>5</td><td>22.0</td></tr></tbody></table></div>"
      ]
     },
     "metadata": {
      "application/vnd.databricks.v1+output": {
       "addedWidgets": {},
       "aggData": [],
       "aggError": "",
       "aggOverflow": false,
       "aggSchema": [],
       "aggSeriesLimitReached": false,
       "aggType": "",
       "arguments": {},
       "columnCustomDisplayInfos": {},
       "data": [
        [
         "Clothing",
         11,
         67.97272664850408
        ],
        [
         "Home",
         10,
         164.575
        ],
        [
         "Electronics",
         7,
         134.57142857142858
        ],
        [
         "Books",
         6,
         44.25
        ],
        [
         "Sports",
         5,
         72.0
        ],
        [
         "Garden",
         5,
         65.0
        ],
        [
         "Beauty",
         5,
         99.98999786376953
        ],
        [
         "Toys",
         5,
         22.0
        ]
       ],
       "datasetInfos": [],
       "dbfsResultPath": null,
       "isJsonSchema": true,
       "metadata": {},
       "overflow": false,
       "plotOptions": {
        "customPlotOptions": {},
        "displayType": "table",
        "pivotAggregation": null,
        "pivotColumns": null,
        "xColumns": null,
        "yColumns": null
       },
       "removedWidgets": [],
       "schema": [
        {
         "metadata": "{}",
         "name": "category",
         "type": "\"string\""
        },
        {
         "metadata": "{}",
         "name": "total_orders",
         "type": "\"long\""
        },
        {
         "metadata": "{}",
         "name": "avg_order_value",
         "type": "\"double\""
        }
       ],
       "type": "table"
      }
     },
     "output_type": "display_data"
    }
   ],
   "source": [
    "# Calculate average order value and total orders per product category (assuming there's a category column)\n",
    "if \"category\" in df.columns:\n",
    "    category_stats = df.groupBy(\"category\")\\\n",
    "                       .agg(count(\"product_id\").alias(\"total_orders\"), avg(\"price\").alias(\"avg_order_value\"))\\\n",
    "                       .orderBy(desc(\"total_orders\"))\n",
    "    display(category_stats)"
   ]
  },
  {
   "cell_type": "code",
   "execution_count": 0,
   "metadata": {
    "application/vnd.databricks.v1+cell": {
     "cellMetadata": {
      "byteLimit": 2048000,
      "rowLimit": 10000
     },
     "inputWidgets": {},
     "nuid": "a45f4f22-1931-4c4b-bb6e-cb5219ee0fa6",
     "showTitle": false,
     "tableResultSettingsMap": {},
     "title": ""
    }
   },
   "outputs": [
    {
     "output_type": "display_data",
     "data": {
      "text/html": [
       "<style scoped>\n",
       "  .table-result-container {\n",
       "    max-height: 300px;\n",
       "    overflow: auto;\n",
       "  }\n",
       "  table, th, td {\n",
       "    border: 1px solid black;\n",
       "    border-collapse: collapse;\n",
       "  }\n",
       "  th, td {\n",
       "    padding: 5px;\n",
       "  }\n",
       "  th {\n",
       "    text-align: left;\n",
       "  }\n",
       "</style><div class='table-result-container'><table class='table-result'><thead style='background-color: white'><tr><th>product_id</th><th>product_revenue</th></tr></thead><tbody><tr><td>P109</td><td>1250.0</td></tr><tr><td>P101</td><td>942.0</td></tr><tr><td>P105</td><td>499.94998931884766</td></tr><tr><td>P103</td><td>468.9499931335449</td></tr><tr><td>P104</td><td>395.75</td></tr><tr><td>P106</td><td>360.0</td></tr><tr><td>P110</td><td>325.0</td></tr><tr><td>P108</td><td>278.75</td></tr><tr><td>P102</td><td>265.5</td></tr><tr><td>P107</td><td>110.0</td></tr></tbody></table></div>"
      ]
     },
     "metadata": {
      "application/vnd.databricks.v1+output": {
       "addedWidgets": {},
       "aggData": [],
       "aggError": "",
       "aggOverflow": false,
       "aggSchema": [],
       "aggSeriesLimitReached": false,
       "aggType": "",
       "arguments": {},
       "columnCustomDisplayInfos": {},
       "data": [
        [
         "P109",
         1250.0
        ],
        [
         "P101",
         942.0
        ],
        [
         "P105",
         499.94998931884766
        ],
        [
         "P103",
         468.9499931335449
        ],
        [
         "P104",
         395.75
        ],
        [
         "P106",
         360.0
        ],
        [
         "P110",
         325.0
        ],
        [
         "P108",
         278.75
        ],
        [
         "P102",
         265.5
        ],
        [
         "P107",
         110.0
        ]
       ],
       "datasetInfos": [],
       "dbfsResultPath": null,
       "isJsonSchema": true,
       "metadata": {},
       "overflow": false,
       "plotOptions": {
        "customPlotOptions": {},
        "displayType": "table",
        "pivotAggregation": null,
        "pivotColumns": null,
        "xColumns": null,
        "yColumns": null
       },
       "removedWidgets": [],
       "schema": [
        {
         "metadata": "{}",
         "name": "product_id",
         "type": "\"string\""
        },
        {
         "metadata": "{}",
         "name": "product_revenue",
         "type": "\"double\""
        }
       ],
       "type": "table"
      }
     },
     "output_type": "display_data"
    }
   ],
   "source": [
    "# Further analysis: Top 10 products by revenue\n",
    "top_products = df.groupBy(\"product_id\")\\\n",
    "                 .agg(sum(\"price\").alias(\"product_revenue\"))\\\n",
    "                 .orderBy(desc(\"product_revenue\"))\\\n",
    "                 .limit(10)\n",
    "display(top_products)"
   ]
  }
 ],
 "metadata": {
  "application/vnd.databricks.v1+notebook": {
   "computePreferences": null,
   "dashboards": [],
   "environmentMetadata": {
    "base_environment": "",
    "environment_version": "1"
   },
   "inputWidgetPreferences": null,
   "language": "python",
   "notebookMetadata": {
    "pythonIndentUnit": 4
   },
   "notebookName": "sales_analysis",
   "widgets": {}
  }
 },
 "nbformat": 4,
 "nbformat_minor": 0
}