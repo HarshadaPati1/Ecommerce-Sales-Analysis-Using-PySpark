{
 "cells": [
  {
   "cell_type": "code",
   "execution_count": 0,
   "metadata": {
    "application/vnd.databricks.v1+cell": {
     "cellMetadata": {
      "byteLimit": 2048000,
      "rowLimit": 10000
     },
     "inputWidgets": {},
     "nuid": "b4ecd91f-5cc3-4e79-b3d4-8efa73fc3c9d",
     "showTitle": false,
     "tableResultSettingsMap": {},
     "title": ""
    }
   },
   "outputs": [
    {
     "output_type": "display_data",
     "data": {
      "text/html": [
       "<style scoped>\n",
       "  .table-result-container {\n",
       "    max-height: 300px;\n",
       "    overflow: auto;\n",
       "  }\n",
       "  table, th, td {\n",
       "    border: 1px solid black;\n",
       "    border-collapse: collapse;\n",
       "  }\n",
       "  th, td {\n",
       "    padding: 5px;\n",
       "  }\n",
       "  th {\n",
       "    text-align: left;\n",
       "  }\n",
       "</style><div class='table-result-container'><table class='table-result'><thead style='background-color: white'><tr><th>order_id</th><th>sale_date</th><th>price</th><th>product_id</th><th>category</th></tr></thead><tbody><tr><td>O1001</td><td>01/15/2023</td><td>$120.50</td><td>P101</td><td>Electronics</td></tr><tr><td>O1001</td><td>01/15/2023</td><td>$45.00</td><td>P102</td><td>Books</td></tr><tr><td>O1001</td><td>01/15/2023</td><td>$85.99</td><td>P103</td><td>Clothing</td></tr><tr><td>O1002</td><td>01/16/2023</td><td>$50.00</td><td>P102</td><td>Books</td></tr><tr><td>O1002</td><td>01/16/2023</td><td>$110.00</td><td>P104</td><td>Home</td></tr><tr><td>O1002</td><td>01/16/2023</td><td>$99.99</td><td>P105</td><td>Beauty</td></tr><tr><td>O1002</td><td>01/16/2023</td><td>$210.00</td><td>P101</td><td>Electronics</td></tr><tr><td>O1003</td><td>01/17/2023</td><td>$75.00</td><td>P103</td><td>Clothing</td></tr><tr><td>O1003</td><td>01/17/2023</td><td>$60.00</td><td>P106</td><td>Sports</td></tr><tr><td>O1004</td><td>01/18/2023</td><td>$120.00</td><td>P101</td><td>Electronics</td></tr><tr><td>O1004</td><td>01/18/2023</td><td>$25.00</td><td>P107</td><td>Toys</td></tr><tr><td>O1004</td><td>01/18/2023</td><td>$55.75</td><td>P108</td><td>Clothing</td></tr><tr><td>O1004</td><td>01/18/2023</td><td>$250.00</td><td>P109</td><td>Home</td></tr><tr><td>O1005</td><td>01/19/2023</td><td>$65.00</td><td>P110</td><td>Garden</td></tr><tr><td>O1005</td><td>01/19/2023</td><td>$130.00</td><td>P101</td><td>Electronics</td></tr><tr><td>O1005</td><td>01/19/2023</td><td>$35.50</td><td>P102</td><td>Books</td></tr><tr><td>O1006</td><td>01/20/2023</td><td>$49.99</td><td>P103</td><td>Clothing</td></tr><tr><td>O1006</td><td>01/20/2023</td><td>$15.75</td><td>P104</td><td>Home</td></tr><tr><td>O1006</td><td>01/20/2023</td><td>$99.99</td><td>P105</td><td>Beauty</td></tr><tr><td>O1007</td><td>01/21/2023</td><td>$75.00</td><td>P106</td><td>Sports</td></tr><tr><td>O1007</td><td>01/21/2023</td><td>$20.00</td><td>P107</td><td>Toys</td></tr><tr><td>O1007</td><td>01/21/2023</td><td>$55.75</td><td>P108</td><td>Clothing</td></tr><tr><td>O1008</td><td>01/22/2023</td><td>$250.00</td><td>P109</td><td>Home</td></tr><tr><td>O1008</td><td>01/22/2023</td><td>$65.00</td><td>P110</td><td>Garden</td></tr><tr><td>O1008</td><td>01/22/2023</td><td>$120.50</td><td>P101</td><td>Electronics</td></tr><tr><td>O1008</td><td>01/22/2023</td><td>$45.00</td><td>P102</td><td>Books</td></tr><tr><td>O1008</td><td>01/22/2023</td><td>$85.99</td><td>P103</td><td>Clothing</td></tr><tr><td>O1009</td><td>01/23/2023</td><td>$50.00</td><td>P104</td><td>Home</td></tr><tr><td>O1009</td><td>01/23/2023</td><td>$99.99</td><td>P105</td><td>Beauty</td></tr><tr><td>O1009</td><td>01/23/2023</td><td>$75.00</td><td>P106</td><td>Sports</td></tr><tr><td>O1009</td><td>01/23/2023</td><td>$25.00</td><td>P107</td><td>Toys</td></tr><tr><td>O1010</td><td>01/24/2023</td><td>$55.75</td><td>P108</td><td>Clothing</td></tr><tr><td>O1010</td><td>01/24/2023</td><td>$250.00</td><td>P109</td><td>Home</td></tr><tr><td>O1010</td><td>01/24/2023</td><td>$65.00</td><td>P110</td><td>Garden</td></tr><tr><td>O1011</td><td>01/25/2023</td><td>$120.50</td><td>P101</td><td>Electronics</td></tr><tr><td>O1011</td><td>01/25/2023</td><td>$45.00</td><td>P102</td><td>Books</td></tr><tr><td>O1011</td><td>01/25/2023</td><td>$85.99</td><td>P103</td><td>Clothing</td></tr><tr><td>O1011</td><td>01/25/2023</td><td>$110.00</td><td>P104</td><td>Home</td></tr><tr><td>O1011</td><td>01/25/2023</td><td>$99.99</td><td>P105</td><td>Beauty</td></tr><tr><td>O1012</td><td>01/26/2023</td><td>$75.00</td><td>P106</td><td>Sports</td></tr><tr><td>O1012</td><td>01/26/2023</td><td>$20.00</td><td>P107</td><td>Toys</td></tr><tr><td>O1012</td><td>01/26/2023</td><td>$55.75</td><td>P108</td><td>Clothing</td></tr><tr><td>O1012</td><td>01/26/2023</td><td>$250.00</td><td>P109</td><td>Home</td></tr><tr><td>O1012</td><td>01/26/2023</td><td>$65.00</td><td>P110</td><td>Garden</td></tr><tr><td>O1013</td><td>01/27/2023</td><td>$120.50</td><td>P101</td><td>Electronics</td></tr><tr><td>O1013</td><td>01/27/2023</td><td>$85.99</td><td>P103</td><td>Clothing</td></tr><tr><td>O1013</td><td>01/27/2023</td><td>$99.99</td><td>P105</td><td>Beauty</td></tr><tr><td>O1013</td><td>01/27/2023</td><td>$20.00</td><td>P107</td><td>Toys</td></tr><tr><td>O1013</td><td>01/27/2023</td><td>$250.00</td><td>P109</td><td>Home</td></tr><tr><td>O1014</td><td>01/28/2023</td><td>$45.00</td><td>P102</td><td>Books</td></tr><tr><td>O1014</td><td>01/28/2023</td><td>$110.00</td><td>P104</td><td>Home</td></tr><tr><td>O1014</td><td>01/28/2023</td><td>$75.00</td><td>P106</td><td>Sports</td></tr><tr><td>O1014</td><td>01/28/2023</td><td>$55.75</td><td>P108</td><td>Clothing</td></tr><tr><td>O1014</td><td>01/28/2023</td><td>$65.00</td><td>P110</td><td>Garden</td></tr></tbody></table></div>"
      ]
     },
     "metadata": {
      "application/vnd.databricks.v1+output": {
       "addedWidgets": {},
       "aggData": [],
       "aggError": "",
       "aggOverflow": false,
       "aggSchema": [],
       "aggSeriesLimitReached": false,
       "aggType": "",
       "arguments": {},
       "columnCustomDisplayInfos": {},
       "data": [
        [
         "O1001",
         "01/15/2023",
         "$120.50",
         "P101",
         "Electronics"
        ],
        [
         "O1001",
         "01/15/2023",
         "$45.00",
         "P102",
         "Books"
        ],
        [
         "O1001",
         "01/15/2023",
         "$85.99",
         "P103",
         "Clothing"
        ],
        [
         "O1002",
         "01/16/2023",
         "$50.00",
         "P102",
         "Books"
        ],
        [
         "O1002",
         "01/16/2023",
         "$110.00",
         "P104",
         "Home"
        ],
        [
         "O1002",
         "01/16/2023",
         "$99.99",
         "P105",
         "Beauty"
        ],
        [
         "O1002",
         "01/16/2023",
         "$210.00",
         "P101",
         "Electronics"
        ],
        [
         "O1003",
         "01/17/2023",
         "$75.00",
         "P103",
         "Clothing"
        ],
        [
         "O1003",
         "01/17/2023",
         "$60.00",
         "P106",
         "Sports"
        ],
        [
         "O1004",
         "01/18/2023",
         "$120.00",
         "P101",
         "Electronics"
        ],
        [
         "O1004",
         "01/18/2023",
         "$25.00",
         "P107",
         "Toys"
        ],
        [
         "O1004",
         "01/18/2023",
         "$55.75",
         "P108",
         "Clothing"
        ],
        [
         "O1004",
         "01/18/2023",
         "$250.00",
         "P109",
         "Home"
        ],
        [
         "O1005",
         "01/19/2023",
         "$65.00",
         "P110",
         "Garden"
        ],
        [
         "O1005",
         "01/19/2023",
         "$130.00",
         "P101",
         "Electronics"
        ],
        [
         "O1005",
         "01/19/2023",
         "$35.50",
         "P102",
         "Books"
        ],
        [
         "O1006",
         "01/20/2023",
         "$49.99",
         "P103",
         "Clothing"
        ],
        [
         "O1006",
         "01/20/2023",
         "$15.75",
         "P104",
         "Home"
        ],
        [
         "O1006",
         "01/20/2023",
         "$99.99",
         "P105",
         "Beauty"
        ],
        [
         "O1007",
         "01/21/2023",
         "$75.00",
         "P106",
         "Sports"
        ],
        [
         "O1007",
         "01/21/2023",
         "$20.00",
         "P107",
         "Toys"
        ],
        [
         "O1007",
         "01/21/2023",
         "$55.75",
         "P108",
         "Clothing"
        ],
        [
         "O1008",
         "01/22/2023",
         "$250.00",
         "P109",
         "Home"
        ],
        [
         "O1008",
         "01/22/2023",
         "$65.00",
         "P110",
         "Garden"
        ],
        [
         "O1008",
         "01/22/2023",
         "$120.50",
         "P101",
         "Electronics"
        ],
        [
         "O1008",
         "01/22/2023",
         "$45.00",
         "P102",
         "Books"
        ],
        [
         "O1008",
         "01/22/2023",
         "$85.99",
         "P103",
         "Clothing"
        ],
        [
         "O1009",
         "01/23/2023",
         "$50.00",
         "P104",
         "Home"
        ],
        [
         "O1009",
         "01/23/2023",
         "$99.99",
         "P105",
         "Beauty"
        ],
        [
         "O1009",
         "01/23/2023",
         "$75.00",
         "P106",
         "Sports"
        ],
        [
         "O1009",
         "01/23/2023",
         "$25.00",
         "P107",
         "Toys"
        ],
        [
         "O1010",
         "01/24/2023",
         "$55.75",
         "P108",
         "Clothing"
        ],
        [
         "O1010",
         "01/24/2023",
         "$250.00",
         "P109",
         "Home"
        ],
        [
         "O1010",
         "01/24/2023",
         "$65.00",
         "P110",
         "Garden"
        ],
        [
         "O1011",
         "01/25/2023",
         "$120.50",
         "P101",
         "Electronics"
        ],
        [
         "O1011",
         "01/25/2023",
         "$45.00",
         "P102",
         "Books"
        ],
        [
         "O1011",
         "01/25/2023",
         "$85.99",
         "P103",
         "Clothing"
        ],
        [
         "O1011",
         "01/25/2023",
         "$110.00",
         "P104",
         "Home"
        ],
        [
         "O1011",
         "01/25/2023",
         "$99.99",
         "P105",
         "Beauty"
        ],
        [
         "O1012",
         "01/26/2023",
         "$75.00",
         "P106",
         "Sports"
        ],
        [
         "O1012",
         "01/26/2023",
         "$20.00",
         "P107",
         "Toys"
        ],
        [
         "O1012",
         "01/26/2023",
         "$55.75",
         "P108",
         "Clothing"
        ],
        [
         "O1012",
         "01/26/2023",
         "$250.00",
         "P109",
         "Home"
        ],
        [
         "O1012",
         "01/26/2023",
         "$65.00",
         "P110",
         "Garden"
        ],
        [
         "O1013",
         "01/27/2023",
         "$120.50",
         "P101",
         "Electronics"
        ],
        [
         "O1013",
         "01/27/2023",
         "$85.99",
         "P103",
         "Clothing"
        ],
        [
         "O1013",
         "01/27/2023",
         "$99.99",
         "P105",
         "Beauty"
        ],
        [
         "O1013",
         "01/27/2023",
         "$20.00",
         "P107",
         "Toys"
        ],
        [
         "O1013",
         "01/27/2023",
         "$250.00",
         "P109",
         "Home"
        ],
        [
         "O1014",
         "01/28/2023",
         "$45.00",
         "P102",
         "Books"
        ],
        [
         "O1014",
         "01/28/2023",
         "$110.00",
         "P104",
         "Home"
        ],
        [
         "O1014",
         "01/28/2023",
         "$75.00",
         "P106",
         "Sports"
        ],
        [
         "O1014",
         "01/28/2023",
         "$55.75",
         "P108",
         "Clothing"
        ],
        [
         "O1014",
         "01/28/2023",
         "$65.00",
         "P110",
         "Garden"
        ]
       ],
       "datasetInfos": [],
       "dbfsResultPath": null,
       "isJsonSchema": true,
       "metadata": {},
       "overflow": false,
       "plotOptions": {
        "customPlotOptions": {},
        "displayType": "table",
        "pivotAggregation": null,
        "pivotColumns": null,
        "xColumns": null,
        "yColumns": null
       },
       "removedWidgets": [],
       "schema": [
        {
         "metadata": "{}",
         "name": "order_id",
         "type": "\"string\""
        },
        {
         "metadata": "{}",
         "name": "sale_date",
         "type": "\"string\""
        },
        {
         "metadata": "{}",
         "name": "price",
         "type": "\"string\""
        },
        {
         "metadata": "{}",
         "name": "product_id",
         "type": "\"string\""
        },
        {
         "metadata": "{}",
         "name": "category",
         "type": "\"string\""
        }
       ],
       "type": "table"
      }
     },
     "output_type": "display_data"
    }
   ],
   "source": [
    "# Databricks Notebook: 1_Data_Ingestion_and_Preprocessing\n",
    "# In this notebook, we read raw e-commerce data from CSV/JSON sources,\n",
    "# perform data cleaning (e.g., handling nulls, type conversions) and save the cleaned data as Delta tables.\n",
    "\n",
    "from pyspark.sql import SparkSession\n",
    "from pyspark.sql.functions import col, to_date, regexp_replace\n",
    "\n",
    "# Initialize Spark session \n",
    "spark = SparkSession.builder.appName(\"EcommerceDataIngestion\").getOrCreate()\n",
    "\n",
    "# Define data paths\n",
    "raw_data_path = \"dbfs:/mnt/data/raw/ecommerce_sales.csv\"  \n",
    "delta_table_path = \"dbfs:/mnt/data/delta/ecommerce_sales_cleaned\"\n",
    "\n",
    "# Read raw data\n",
    "df_raw = spark.read.option(\"header\", \"true\").csv(raw_data_path)\n",
    "display(df_raw)"
   ]
  },
  {
   "cell_type": "code",
   "execution_count": 0,
   "metadata": {
    "application/vnd.databricks.v1+cell": {
     "cellMetadata": {
      "byteLimit": 2048000,
      "rowLimit": 10000
     },
     "inputWidgets": {},
     "nuid": "213db44b-48d6-4e49-9cd4-0384274ed747",
     "showTitle": false,
     "tableResultSettingsMap": {},
     "title": ""
    }
   },
   "outputs": [],
   "source": [
    "# Data cleaning: Convert date columns and remove unwanted characters from price fields\n",
    "df_cleaned = (\n",
    "    df_raw\n",
    "    .withColumn(\"sale_date\", to_date(col(\"sale_date\"), \"MM/dd/yyyy\"))\n",
    "    .withColumn(\"price\", regexp_replace(col(\"price\"), \"[$,]\", \"\").cast(\"float\"))\n",
    "    .dropna(subset=[\"sale_date\", \"price\", \"product_id\"])\n",
    ")\n",
    "\n",
    "# add extra transformations (e.g., categorization, computed columns)\n",
    "df_cleaned = df_cleaned.withColumn(\"year\", col(\"sale_date\").substr(1,4).cast(\"int\"))"
   ]
  },
  {
   "cell_type": "code",
   "execution_count": 0,
   "metadata": {
    "application/vnd.databricks.v1+cell": {
     "cellMetadata": {
      "byteLimit": 2048000,
      "rowLimit": 10000
     },
     "inputWidgets": {},
     "nuid": "55cb0374-608a-4607-8886-a34feafd0e4b",
     "showTitle": false,
     "tableResultSettingsMap": {},
     "title": ""
    }
   },
   "outputs": [
    {
     "output_type": "display_data",
     "data": {
      "text/html": [
       "<style scoped>\n",
       "  .table-result-container {\n",
       "    max-height: 300px;\n",
       "    overflow: auto;\n",
       "  }\n",
       "  table, th, td {\n",
       "    border: 1px solid black;\n",
       "    border-collapse: collapse;\n",
       "  }\n",
       "  th, td {\n",
       "    padding: 5px;\n",
       "  }\n",
       "  th {\n",
       "    text-align: left;\n",
       "  }\n",
       "</style><div class='table-result-container'><table class='table-result'><thead style='background-color: white'><tr><th>order_id</th><th>sale_date</th><th>price</th><th>product_id</th><th>category</th><th>year</th></tr></thead><tbody><tr><td>O1001</td><td>2023-01-15</td><td>120.5</td><td>P101</td><td>Electronics</td><td>2023</td></tr><tr><td>O1001</td><td>2023-01-15</td><td>45.0</td><td>P102</td><td>Books</td><td>2023</td></tr><tr><td>O1001</td><td>2023-01-15</td><td>85.99</td><td>P103</td><td>Clothing</td><td>2023</td></tr><tr><td>O1002</td><td>2023-01-16</td><td>50.0</td><td>P102</td><td>Books</td><td>2023</td></tr><tr><td>O1002</td><td>2023-01-16</td><td>110.0</td><td>P104</td><td>Home</td><td>2023</td></tr><tr><td>O1002</td><td>2023-01-16</td><td>99.99</td><td>P105</td><td>Beauty</td><td>2023</td></tr><tr><td>O1002</td><td>2023-01-16</td><td>210.0</td><td>P101</td><td>Electronics</td><td>2023</td></tr><tr><td>O1003</td><td>2023-01-17</td><td>75.0</td><td>P103</td><td>Clothing</td><td>2023</td></tr><tr><td>O1003</td><td>2023-01-17</td><td>60.0</td><td>P106</td><td>Sports</td><td>2023</td></tr><tr><td>O1004</td><td>2023-01-18</td><td>120.0</td><td>P101</td><td>Electronics</td><td>2023</td></tr><tr><td>O1004</td><td>2023-01-18</td><td>25.0</td><td>P107</td><td>Toys</td><td>2023</td></tr><tr><td>O1004</td><td>2023-01-18</td><td>55.75</td><td>P108</td><td>Clothing</td><td>2023</td></tr><tr><td>O1004</td><td>2023-01-18</td><td>250.0</td><td>P109</td><td>Home</td><td>2023</td></tr><tr><td>O1005</td><td>2023-01-19</td><td>65.0</td><td>P110</td><td>Garden</td><td>2023</td></tr><tr><td>O1005</td><td>2023-01-19</td><td>130.0</td><td>P101</td><td>Electronics</td><td>2023</td></tr><tr><td>O1005</td><td>2023-01-19</td><td>35.5</td><td>P102</td><td>Books</td><td>2023</td></tr><tr><td>O1006</td><td>2023-01-20</td><td>49.99</td><td>P103</td><td>Clothing</td><td>2023</td></tr><tr><td>O1006</td><td>2023-01-20</td><td>15.75</td><td>P104</td><td>Home</td><td>2023</td></tr><tr><td>O1006</td><td>2023-01-20</td><td>99.99</td><td>P105</td><td>Beauty</td><td>2023</td></tr><tr><td>O1007</td><td>2023-01-21</td><td>75.0</td><td>P106</td><td>Sports</td><td>2023</td></tr><tr><td>O1007</td><td>2023-01-21</td><td>20.0</td><td>P107</td><td>Toys</td><td>2023</td></tr><tr><td>O1007</td><td>2023-01-21</td><td>55.75</td><td>P108</td><td>Clothing</td><td>2023</td></tr><tr><td>O1008</td><td>2023-01-22</td><td>250.0</td><td>P109</td><td>Home</td><td>2023</td></tr><tr><td>O1008</td><td>2023-01-22</td><td>65.0</td><td>P110</td><td>Garden</td><td>2023</td></tr><tr><td>O1008</td><td>2023-01-22</td><td>120.5</td><td>P101</td><td>Electronics</td><td>2023</td></tr><tr><td>O1008</td><td>2023-01-22</td><td>45.0</td><td>P102</td><td>Books</td><td>2023</td></tr><tr><td>O1008</td><td>2023-01-22</td><td>85.99</td><td>P103</td><td>Clothing</td><td>2023</td></tr><tr><td>O1009</td><td>2023-01-23</td><td>50.0</td><td>P104</td><td>Home</td><td>2023</td></tr><tr><td>O1009</td><td>2023-01-23</td><td>99.99</td><td>P105</td><td>Beauty</td><td>2023</td></tr><tr><td>O1009</td><td>2023-01-23</td><td>75.0</td><td>P106</td><td>Sports</td><td>2023</td></tr><tr><td>O1009</td><td>2023-01-23</td><td>25.0</td><td>P107</td><td>Toys</td><td>2023</td></tr><tr><td>O1010</td><td>2023-01-24</td><td>55.75</td><td>P108</td><td>Clothing</td><td>2023</td></tr><tr><td>O1010</td><td>2023-01-24</td><td>250.0</td><td>P109</td><td>Home</td><td>2023</td></tr><tr><td>O1010</td><td>2023-01-24</td><td>65.0</td><td>P110</td><td>Garden</td><td>2023</td></tr><tr><td>O1011</td><td>2023-01-25</td><td>120.5</td><td>P101</td><td>Electronics</td><td>2023</td></tr><tr><td>O1011</td><td>2023-01-25</td><td>45.0</td><td>P102</td><td>Books</td><td>2023</td></tr><tr><td>O1011</td><td>2023-01-25</td><td>85.99</td><td>P103</td><td>Clothing</td><td>2023</td></tr><tr><td>O1011</td><td>2023-01-25</td><td>110.0</td><td>P104</td><td>Home</td><td>2023</td></tr><tr><td>O1011</td><td>2023-01-25</td><td>99.99</td><td>P105</td><td>Beauty</td><td>2023</td></tr><tr><td>O1012</td><td>2023-01-26</td><td>75.0</td><td>P106</td><td>Sports</td><td>2023</td></tr><tr><td>O1012</td><td>2023-01-26</td><td>20.0</td><td>P107</td><td>Toys</td><td>2023</td></tr><tr><td>O1012</td><td>2023-01-26</td><td>55.75</td><td>P108</td><td>Clothing</td><td>2023</td></tr><tr><td>O1012</td><td>2023-01-26</td><td>250.0</td><td>P109</td><td>Home</td><td>2023</td></tr><tr><td>O1012</td><td>2023-01-26</td><td>65.0</td><td>P110</td><td>Garden</td><td>2023</td></tr><tr><td>O1013</td><td>2023-01-27</td><td>120.5</td><td>P101</td><td>Electronics</td><td>2023</td></tr><tr><td>O1013</td><td>2023-01-27</td><td>85.99</td><td>P103</td><td>Clothing</td><td>2023</td></tr><tr><td>O1013</td><td>2023-01-27</td><td>99.99</td><td>P105</td><td>Beauty</td><td>2023</td></tr><tr><td>O1013</td><td>2023-01-27</td><td>20.0</td><td>P107</td><td>Toys</td><td>2023</td></tr><tr><td>O1013</td><td>2023-01-27</td><td>250.0</td><td>P109</td><td>Home</td><td>2023</td></tr><tr><td>O1014</td><td>2023-01-28</td><td>45.0</td><td>P102</td><td>Books</td><td>2023</td></tr><tr><td>O1014</td><td>2023-01-28</td><td>110.0</td><td>P104</td><td>Home</td><td>2023</td></tr><tr><td>O1014</td><td>2023-01-28</td><td>75.0</td><td>P106</td><td>Sports</td><td>2023</td></tr><tr><td>O1014</td><td>2023-01-28</td><td>55.75</td><td>P108</td><td>Clothing</td><td>2023</td></tr><tr><td>O1014</td><td>2023-01-28</td><td>65.0</td><td>P110</td><td>Garden</td><td>2023</td></tr></tbody></table></div>"
      ]
     },
     "metadata": {
      "application/vnd.databricks.v1+output": {
       "addedWidgets": {},
       "aggData": [],
       "aggError": "",
       "aggOverflow": false,
       "aggSchema": [],
       "aggSeriesLimitReached": false,
       "aggType": "",
       "arguments": {},
       "columnCustomDisplayInfos": {},
       "data": [
        [
         "O1001",
         "2023-01-15",
         120.5,
         "P101",
         "Electronics",
         2023
        ],
        [
         "O1001",
         "2023-01-15",
         45.0,
         "P102",
         "Books",
         2023
        ],
        [
         "O1001",
         "2023-01-15",
         85.99,
         "P103",
         "Clothing",
         2023
        ],
        [
         "O1002",
         "2023-01-16",
         50.0,
         "P102",
         "Books",
         2023
        ],
        [
         "O1002",
         "2023-01-16",
         110.0,
         "P104",
         "Home",
         2023
        ],
        [
         "O1002",
         "2023-01-16",
         99.99,
         "P105",
         "Beauty",
         2023
        ],
        [
         "O1002",
         "2023-01-16",
         210.0,
         "P101",
         "Electronics",
         2023
        ],
        [
         "O1003",
         "2023-01-17",
         75.0,
         "P103",
         "Clothing",
         2023
        ],
        [
         "O1003",
         "2023-01-17",
         60.0,
         "P106",
         "Sports",
         2023
        ],
        [
         "O1004",
         "2023-01-18",
         120.0,
         "P101",
         "Electronics",
         2023
        ],
        [
         "O1004",
         "2023-01-18",
         25.0,
         "P107",
         "Toys",
         2023
        ],
        [
         "O1004",
         "2023-01-18",
         55.75,
         "P108",
         "Clothing",
         2023
        ],
        [
         "O1004",
         "2023-01-18",
         250.0,
         "P109",
         "Home",
         2023
        ],
        [
         "O1005",
         "2023-01-19",
         65.0,
         "P110",
         "Garden",
         2023
        ],
        [
         "O1005",
         "2023-01-19",
         130.0,
         "P101",
         "Electronics",
         2023
        ],
        [
         "O1005",
         "2023-01-19",
         35.5,
         "P102",
         "Books",
         2023
        ],
        [
         "O1006",
         "2023-01-20",
         49.99,
         "P103",
         "Clothing",
         2023
        ],
        [
         "O1006",
         "2023-01-20",
         15.75,
         "P104",
         "Home",
         2023
        ],
        [
         "O1006",
         "2023-01-20",
         99.99,
         "P105",
         "Beauty",
         2023
        ],
        [
         "O1007",
         "2023-01-21",
         75.0,
         "P106",
         "Sports",
         2023
        ],
        [
         "O1007",
         "2023-01-21",
         20.0,
         "P107",
         "Toys",
         2023
        ],
        [
         "O1007",
         "2023-01-21",
         55.75,
         "P108",
         "Clothing",
         2023
        ],
        [
         "O1008",
         "2023-01-22",
         250.0,
         "P109",
         "Home",
         2023
        ],
        [
         "O1008",
         "2023-01-22",
         65.0,
         "P110",
         "Garden",
         2023
        ],
        [
         "O1008",
         "2023-01-22",
         120.5,
         "P101",
         "Electronics",
         2023
        ],
        [
         "O1008",
         "2023-01-22",
         45.0,
         "P102",
         "Books",
         2023
        ],
        [
         "O1008",
         "2023-01-22",
         85.99,
         "P103",
         "Clothing",
         2023
        ],
        [
         "O1009",
         "2023-01-23",
         50.0,
         "P104",
         "Home",
         2023
        ],
        [
         "O1009",
         "2023-01-23",
         99.99,
         "P105",
         "Beauty",
         2023
        ],
        [
         "O1009",
         "2023-01-23",
         75.0,
         "P106",
         "Sports",
         2023
        ],
        [
         "O1009",
         "2023-01-23",
         25.0,
         "P107",
         "Toys",
         2023
        ],
        [
         "O1010",
         "2023-01-24",
         55.75,
         "P108",
         "Clothing",
         2023
        ],
        [
         "O1010",
         "2023-01-24",
         250.0,
         "P109",
         "Home",
         2023
        ],
        [
         "O1010",
         "2023-01-24",
         65.0,
         "P110",
         "Garden",
         2023
        ],
        [
         "O1011",
         "2023-01-25",
         120.5,
         "P101",
         "Electronics",
         2023
        ],
        [
         "O1011",
         "2023-01-25",
         45.0,
         "P102",
         "Books",
         2023
        ],
        [
         "O1011",
         "2023-01-25",
         85.99,
         "P103",
         "Clothing",
         2023
        ],
        [
         "O1011",
         "2023-01-25",
         110.0,
         "P104",
         "Home",
         2023
        ],
        [
         "O1011",
         "2023-01-25",
         99.99,
         "P105",
         "Beauty",
         2023
        ],
        [
         "O1012",
         "2023-01-26",
         75.0,
         "P106",
         "Sports",
         2023
        ],
        [
         "O1012",
         "2023-01-26",
         20.0,
         "P107",
         "Toys",
         2023
        ],
        [
         "O1012",
         "2023-01-26",
         55.75,
         "P108",
         "Clothing",
         2023
        ],
        [
         "O1012",
         "2023-01-26",
         250.0,
         "P109",
         "Home",
         2023
        ],
        [
         "O1012",
         "2023-01-26",
         65.0,
         "P110",
         "Garden",
         2023
        ],
        [
         "O1013",
         "2023-01-27",
         120.5,
         "P101",
         "Electronics",
         2023
        ],
        [
         "O1013",
         "2023-01-27",
         85.99,
         "P103",
         "Clothing",
         2023
        ],
        [
         "O1013",
         "2023-01-27",
         99.99,
         "P105",
         "Beauty",
         2023
        ],
        [
         "O1013",
         "2023-01-27",
         20.0,
         "P107",
         "Toys",
         2023
        ],
        [
         "O1013",
         "2023-01-27",
         250.0,
         "P109",
         "Home",
         2023
        ],
        [
         "O1014",
         "2023-01-28",
         45.0,
         "P102",
         "Books",
         2023
        ],
        [
         "O1014",
         "2023-01-28",
         110.0,
         "P104",
         "Home",
         2023
        ],
        [
         "O1014",
         "2023-01-28",
         75.0,
         "P106",
         "Sports",
         2023
        ],
        [
         "O1014",
         "2023-01-28",
         55.75,
         "P108",
         "Clothing",
         2023
        ],
        [
         "O1014",
         "2023-01-28",
         65.0,
         "P110",
         "Garden",
         2023
        ]
       ],
       "datasetInfos": [],
       "dbfsResultPath": null,
       "isJsonSchema": true,
       "metadata": {},
       "overflow": false,
       "plotOptions": {
        "customPlotOptions": {},
        "displayType": "table",
        "pivotAggregation": null,
        "pivotColumns": null,
        "xColumns": null,
        "yColumns": null
       },
       "removedWidgets": [],
       "schema": [
        {
         "metadata": "{}",
         "name": "order_id",
         "type": "\"string\""
        },
        {
         "metadata": "{}",
         "name": "sale_date",
         "type": "\"date\""
        },
        {
         "metadata": "{}",
         "name": "price",
         "type": "\"float\""
        },
        {
         "metadata": "{}",
         "name": "product_id",
         "type": "\"string\""
        },
        {
         "metadata": "{}",
         "name": "category",
         "type": "\"string\""
        },
        {
         "metadata": "{}",
         "name": "year",
         "type": "\"integer\""
        }
       ],
       "type": "table"
      }
     },
     "output_type": "display_data"
    }
   ],
   "source": [
    "# Write the cleaned data to a Delta table for further analysis\n",
    "df_cleaned.write.mode(\"overwrite\").format(\"delta\").save(delta_table_path)\n",
    "spark.sql(\"DROP TABLE IF EXISTS ecommerce_sales_cleaned\")\n",
    "spark.sql(f\"CREATE TABLE ecommerce_sales_cleaned USING DELTA LOCATION '{delta_table_path}'\")\n",
    "\n",
    "display(df_cleaned)"
   ]
  }
 ],
 "metadata": {
  "application/vnd.databricks.v1+notebook": {
   "computePreferences": null,
   "dashboards": [],
   "environmentMetadata": {
    "base_environment": "",
    "environment_version": "1"
   },
   "inputWidgetPreferences": null,
   "language": "python",
   "notebookMetadata": {
    "pythonIndentUnit": 4
   },
   "notebookName": "data_ingestion",
   "widgets": {}
  }
 },
 "nbformat": 4,
 "nbformat_minor": 0
}