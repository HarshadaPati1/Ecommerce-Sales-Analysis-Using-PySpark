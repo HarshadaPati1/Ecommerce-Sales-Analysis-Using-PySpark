{
 "cells": [
  {
   "cell_type": "code",
   "execution_count": 0,
   "metadata": {
    "application/vnd.databricks.v1+cell": {
     "cellMetadata": {
      "byteLimit": 2048000,
      "rowLimit": 10000
     },
     "inputWidgets": {},
     "nuid": "eedc6e27-2d36-4893-9924-d5eb4ce6e26a",
     "showTitle": false,
     "tableResultSettingsMap": {},
     "title": ""
    }
   },
   "outputs": [
    {
     "output_type": "display_data",
     "data": {
      "text/html": [
       "<style scoped>\n",
       "  .table-result-container {\n",
       "    max-height: 300px;\n",
       "    overflow: auto;\n",
       "  }\n",
       "  table, th, td {\n",
       "    border: 1px solid black;\n",
       "    border-collapse: collapse;\n",
       "  }\n",
       "  th, td {\n",
       "    padding: 5px;\n",
       "  }\n",
       "  th {\n",
       "    text-align: left;\n",
       "  }\n",
       "</style><div class='table-result-container'><table class='table-result'><thead style='background-color: white'><tr><th>order_id</th><th>product_id</th></tr></thead><tbody><tr><td>O1001</td><td>P101</td></tr><tr><td>O1001</td><td>P102</td></tr><tr><td>O1001</td><td>P103</td></tr><tr><td>O1002</td><td>P102</td></tr><tr><td>O1002</td><td>P104</td></tr><tr><td>O1002</td><td>P105</td></tr><tr><td>O1002</td><td>P101</td></tr><tr><td>O1003</td><td>P103</td></tr><tr><td>O1003</td><td>P106</td></tr><tr><td>O1004</td><td>P101</td></tr><tr><td>O1004</td><td>P107</td></tr><tr><td>O1004</td><td>P108</td></tr><tr><td>O1004</td><td>P109</td></tr><tr><td>O1005</td><td>P110</td></tr><tr><td>O1005</td><td>P101</td></tr><tr><td>O1005</td><td>P102</td></tr><tr><td>O1006</td><td>P103</td></tr><tr><td>O1006</td><td>P104</td></tr><tr><td>O1006</td><td>P105</td></tr><tr><td>O1007</td><td>P106</td></tr><tr><td>O1007</td><td>P107</td></tr><tr><td>O1007</td><td>P108</td></tr><tr><td>O1008</td><td>P109</td></tr><tr><td>O1008</td><td>P110</td></tr><tr><td>O1008</td><td>P101</td></tr><tr><td>O1008</td><td>P102</td></tr><tr><td>O1008</td><td>P103</td></tr><tr><td>O1009</td><td>P104</td></tr><tr><td>O1009</td><td>P105</td></tr><tr><td>O1009</td><td>P106</td></tr><tr><td>O1009</td><td>P107</td></tr><tr><td>O1010</td><td>P108</td></tr><tr><td>O1010</td><td>P109</td></tr><tr><td>O1010</td><td>P110</td></tr><tr><td>O1011</td><td>P101</td></tr><tr><td>O1011</td><td>P102</td></tr><tr><td>O1011</td><td>P103</td></tr><tr><td>O1011</td><td>P104</td></tr><tr><td>O1011</td><td>P105</td></tr><tr><td>O1012</td><td>P106</td></tr><tr><td>O1012</td><td>P107</td></tr><tr><td>O1012</td><td>P108</td></tr><tr><td>O1012</td><td>P109</td></tr><tr><td>O1012</td><td>P110</td></tr><tr><td>O1013</td><td>P101</td></tr><tr><td>O1013</td><td>P103</td></tr><tr><td>O1013</td><td>P105</td></tr><tr><td>O1013</td><td>P107</td></tr><tr><td>O1013</td><td>P109</td></tr><tr><td>O1014</td><td>P102</td></tr><tr><td>O1014</td><td>P104</td></tr><tr><td>O1014</td><td>P106</td></tr><tr><td>O1014</td><td>P108</td></tr><tr><td>O1014</td><td>P110</td></tr></tbody></table></div>"
      ]
     },
     "metadata": {
      "application/vnd.databricks.v1+output": {
       "addedWidgets": {},
       "aggData": [],
       "aggError": "",
       "aggOverflow": false,
       "aggSchema": [],
       "aggSeriesLimitReached": false,
       "aggType": "",
       "arguments": {},
       "columnCustomDisplayInfos": {},
       "data": [
        [
         "O1001",
         "P101"
        ],
        [
         "O1001",
         "P102"
        ],
        [
         "O1001",
         "P103"
        ],
        [
         "O1002",
         "P102"
        ],
        [
         "O1002",
         "P104"
        ],
        [
         "O1002",
         "P105"
        ],
        [
         "O1002",
         "P101"
        ],
        [
         "O1003",
         "P103"
        ],
        [
         "O1003",
         "P106"
        ],
        [
         "O1004",
         "P101"
        ],
        [
         "O1004",
         "P107"
        ],
        [
         "O1004",
         "P108"
        ],
        [
         "O1004",
         "P109"
        ],
        [
         "O1005",
         "P110"
        ],
        [
         "O1005",
         "P101"
        ],
        [
         "O1005",
         "P102"
        ],
        [
         "O1006",
         "P103"
        ],
        [
         "O1006",
         "P104"
        ],
        [
         "O1006",
         "P105"
        ],
        [
         "O1007",
         "P106"
        ],
        [
         "O1007",
         "P107"
        ],
        [
         "O1007",
         "P108"
        ],
        [
         "O1008",
         "P109"
        ],
        [
         "O1008",
         "P110"
        ],
        [
         "O1008",
         "P101"
        ],
        [
         "O1008",
         "P102"
        ],
        [
         "O1008",
         "P103"
        ],
        [
         "O1009",
         "P104"
        ],
        [
         "O1009",
         "P105"
        ],
        [
         "O1009",
         "P106"
        ],
        [
         "O1009",
         "P107"
        ],
        [
         "O1010",
         "P108"
        ],
        [
         "O1010",
         "P109"
        ],
        [
         "O1010",
         "P110"
        ],
        [
         "O1011",
         "P101"
        ],
        [
         "O1011",
         "P102"
        ],
        [
         "O1011",
         "P103"
        ],
        [
         "O1011",
         "P104"
        ],
        [
         "O1011",
         "P105"
        ],
        [
         "O1012",
         "P106"
        ],
        [
         "O1012",
         "P107"
        ],
        [
         "O1012",
         "P108"
        ],
        [
         "O1012",
         "P109"
        ],
        [
         "O1012",
         "P110"
        ],
        [
         "O1013",
         "P101"
        ],
        [
         "O1013",
         "P103"
        ],
        [
         "O1013",
         "P105"
        ],
        [
         "O1013",
         "P107"
        ],
        [
         "O1013",
         "P109"
        ],
        [
         "O1014",
         "P102"
        ],
        [
         "O1014",
         "P104"
        ],
        [
         "O1014",
         "P106"
        ],
        [
         "O1014",
         "P108"
        ],
        [
         "O1014",
         "P110"
        ]
       ],
       "datasetInfos": [],
       "dbfsResultPath": null,
       "isJsonSchema": true,
       "metadata": {},
       "overflow": false,
       "plotOptions": {
        "customPlotOptions": {},
        "displayType": "table",
        "pivotAggregation": null,
        "pivotColumns": null,
        "xColumns": null,
        "yColumns": null
       },
       "removedWidgets": [],
       "schema": [
        {
         "metadata": "{}",
         "name": "order_id",
         "type": "\"string\""
        },
        {
         "metadata": "{}",
         "name": "product_id",
         "type": "\"string\""
        }
       ],
       "type": "table"
      }
     },
     "output_type": "display_data"
    }
   ],
   "source": [
    "# Databricks Notebook: 3_Product_Recommendation\n",
    "# This notebook builds a simple recommendation model using product co-occurrence.\n",
    "# We use PySpark MLlib to compute similarities between products based on co-purchase behavior.\n",
    "\n",
    "from pyspark.sql import SparkSession\n",
    "from pyspark.sql.functions import collect_set, explode\n",
    "from pyspark.ml.feature import CountVectorizer\n",
    "from pyspark.ml.linalg import Vectors\n",
    "import pyspark.sql.functions as F\n",
    "\n",
    "spark = SparkSession.builder.appName(\"ProductRecommendation\").getOrCreate()\n",
    "\n",
    "# Read cleaned sales data\n",
    "df = spark.sql(\"SELECT order_id, product_id FROM ecommerce_sales_cleaned\")\n",
    "display(df)"
   ]
  },
  {
   "cell_type": "code",
   "execution_count": 0,
   "metadata": {
    "application/vnd.databricks.v1+cell": {
     "cellMetadata": {
      "byteLimit": 2048000,
      "rowLimit": 10000
     },
     "inputWidgets": {},
     "nuid": "ef61f553-0852-4498-9dff-d624a17de688",
     "showTitle": false,
     "tableResultSettingsMap": {},
     "title": ""
    }
   },
   "outputs": [
    {
     "output_type": "display_data",
     "data": {
      "text/html": [
       "<style scoped>\n",
       "  .table-result-container {\n",
       "    max-height: 300px;\n",
       "    overflow: auto;\n",
       "  }\n",
       "  table, th, td {\n",
       "    border: 1px solid black;\n",
       "    border-collapse: collapse;\n",
       "  }\n",
       "  th, td {\n",
       "    padding: 5px;\n",
       "  }\n",
       "  th {\n",
       "    text-align: left;\n",
       "  }\n",
       "</style><div class='table-result-container'><table class='table-result'><thead style='background-color: white'><tr><th>order_id</th><th>products</th></tr></thead><tbody><tr><td>O1006</td><td>List(P104, P103, P105)</td></tr><tr><td>O1002</td><td>List(P104, P101, P105, P102)</td></tr><tr><td>O1004</td><td>List(P101, P108, P107, P109)</td></tr><tr><td>O1009</td><td>List(P104, P106, P105, P107)</td></tr><tr><td>O1007</td><td>List(P106, P108, P107)</td></tr><tr><td>O1001</td><td>List(P103, P101, P102)</td></tr><tr><td>O1011</td><td>List(P104, P103, P101, P105, P102)</td></tr><tr><td>O1012</td><td>List(P106, P110, P108, P107, P109)</td></tr><tr><td>O1003</td><td>List(P103, P106)</td></tr><tr><td>O1014</td><td>List(P104, P106, P110, P102, P108)</td></tr><tr><td>O1008</td><td>List(P103, P110, P101, P102, P109)</td></tr><tr><td>O1013</td><td>List(P103, P101, P105, P107, P109)</td></tr><tr><td>O1010</td><td>List(P110, P108, P109)</td></tr><tr><td>O1005</td><td>List(P110, P101, P102)</td></tr></tbody></table></div>"
      ]
     },
     "metadata": {
      "application/vnd.databricks.v1+output": {
       "addedWidgets": {},
       "aggData": [],
       "aggError": "",
       "aggOverflow": false,
       "aggSchema": [],
       "aggSeriesLimitReached": false,
       "aggType": "",
       "arguments": {},
       "columnCustomDisplayInfos": {},
       "data": [
        [
         "O1006",
         [
          "P104",
          "P103",
          "P105"
         ]
        ],
        [
         "O1002",
         [
          "P104",
          "P101",
          "P105",
          "P102"
         ]
        ],
        [
         "O1004",
         [
          "P101",
          "P108",
          "P107",
          "P109"
         ]
        ],
        [
         "O1009",
         [
          "P104",
          "P106",
          "P105",
          "P107"
         ]
        ],
        [
         "O1007",
         [
          "P106",
          "P108",
          "P107"
         ]
        ],
        [
         "O1001",
         [
          "P103",
          "P101",
          "P102"
         ]
        ],
        [
         "O1011",
         [
          "P104",
          "P103",
          "P101",
          "P105",
          "P102"
         ]
        ],
        [
         "O1012",
         [
          "P106",
          "P110",
          "P108",
          "P107",
          "P109"
         ]
        ],
        [
         "O1003",
         [
          "P103",
          "P106"
         ]
        ],
        [
         "O1014",
         [
          "P104",
          "P106",
          "P110",
          "P102",
          "P108"
         ]
        ],
        [
         "O1008",
         [
          "P103",
          "P110",
          "P101",
          "P102",
          "P109"
         ]
        ],
        [
         "O1013",
         [
          "P103",
          "P101",
          "P105",
          "P107",
          "P109"
         ]
        ],
        [
         "O1010",
         [
          "P110",
          "P108",
          "P109"
         ]
        ],
        [
         "O1005",
         [
          "P110",
          "P101",
          "P102"
         ]
        ]
       ],
       "datasetInfos": [],
       "dbfsResultPath": null,
       "isJsonSchema": true,
       "metadata": {},
       "overflow": false,
       "plotOptions": {
        "customPlotOptions": {},
        "displayType": "table",
        "pivotAggregation": null,
        "pivotColumns": null,
        "xColumns": null,
        "yColumns": null
       },
       "removedWidgets": [],
       "schema": [
        {
         "metadata": "{}",
         "name": "order_id",
         "type": "\"string\""
        },
        {
         "metadata": "{}",
         "name": "products",
         "type": "{\"type\":\"array\",\"elementType\":\"string\",\"containsNull\":false}"
        }
       ],
       "type": "table"
      }
     },
     "output_type": "display_data"
    },
    {
     "output_type": "display_data",
     "data": {
      "text/html": [
       "<style scoped>\n",
       "  .table-result-container {\n",
       "    max-height: 300px;\n",
       "    overflow: auto;\n",
       "  }\n",
       "  table, th, td {\n",
       "    border: 1px solid black;\n",
       "    border-collapse: collapse;\n",
       "  }\n",
       "  th, td {\n",
       "    padding: 5px;\n",
       "  }\n",
       "  th {\n",
       "    text-align: left;\n",
       "  }\n",
       "</style><div class='table-result-container'><table class='table-result'><thead style='background-color: white'><tr><th>order_id</th><th>products</th><th>product</th></tr></thead><tbody><tr><td>O1006</td><td>List(P104, P103, P105)</td><td>P104</td></tr><tr><td>O1006</td><td>List(P104, P103, P105)</td><td>P103</td></tr><tr><td>O1006</td><td>List(P104, P103, P105)</td><td>P105</td></tr><tr><td>O1002</td><td>List(P104, P101, P105, P102)</td><td>P104</td></tr><tr><td>O1002</td><td>List(P104, P101, P105, P102)</td><td>P101</td></tr><tr><td>O1002</td><td>List(P104, P101, P105, P102)</td><td>P105</td></tr><tr><td>O1002</td><td>List(P104, P101, P105, P102)</td><td>P102</td></tr><tr><td>O1004</td><td>List(P101, P108, P107, P109)</td><td>P101</td></tr><tr><td>O1004</td><td>List(P101, P108, P107, P109)</td><td>P108</td></tr><tr><td>O1004</td><td>List(P101, P108, P107, P109)</td><td>P107</td></tr><tr><td>O1004</td><td>List(P101, P108, P107, P109)</td><td>P109</td></tr><tr><td>O1009</td><td>List(P104, P106, P105, P107)</td><td>P104</td></tr><tr><td>O1009</td><td>List(P104, P106, P105, P107)</td><td>P106</td></tr><tr><td>O1009</td><td>List(P104, P106, P105, P107)</td><td>P105</td></tr><tr><td>O1009</td><td>List(P104, P106, P105, P107)</td><td>P107</td></tr><tr><td>O1007</td><td>List(P106, P108, P107)</td><td>P106</td></tr><tr><td>O1007</td><td>List(P106, P108, P107)</td><td>P108</td></tr><tr><td>O1007</td><td>List(P106, P108, P107)</td><td>P107</td></tr><tr><td>O1001</td><td>List(P103, P101, P102)</td><td>P103</td></tr><tr><td>O1001</td><td>List(P103, P101, P102)</td><td>P101</td></tr><tr><td>O1001</td><td>List(P103, P101, P102)</td><td>P102</td></tr><tr><td>O1011</td><td>List(P104, P103, P101, P105, P102)</td><td>P104</td></tr><tr><td>O1011</td><td>List(P104, P103, P101, P105, P102)</td><td>P103</td></tr><tr><td>O1011</td><td>List(P104, P103, P101, P105, P102)</td><td>P101</td></tr><tr><td>O1011</td><td>List(P104, P103, P101, P105, P102)</td><td>P105</td></tr><tr><td>O1011</td><td>List(P104, P103, P101, P105, P102)</td><td>P102</td></tr><tr><td>O1012</td><td>List(P106, P110, P108, P107, P109)</td><td>P106</td></tr><tr><td>O1012</td><td>List(P106, P110, P108, P107, P109)</td><td>P110</td></tr><tr><td>O1012</td><td>List(P106, P110, P108, P107, P109)</td><td>P108</td></tr><tr><td>O1012</td><td>List(P106, P110, P108, P107, P109)</td><td>P107</td></tr><tr><td>O1012</td><td>List(P106, P110, P108, P107, P109)</td><td>P109</td></tr><tr><td>O1003</td><td>List(P103, P106)</td><td>P103</td></tr><tr><td>O1003</td><td>List(P103, P106)</td><td>P106</td></tr><tr><td>O1014</td><td>List(P104, P106, P110, P102, P108)</td><td>P104</td></tr><tr><td>O1014</td><td>List(P104, P106, P110, P102, P108)</td><td>P106</td></tr><tr><td>O1014</td><td>List(P104, P106, P110, P102, P108)</td><td>P110</td></tr><tr><td>O1014</td><td>List(P104, P106, P110, P102, P108)</td><td>P102</td></tr><tr><td>O1014</td><td>List(P104, P106, P110, P102, P108)</td><td>P108</td></tr><tr><td>O1008</td><td>List(P103, P110, P101, P102, P109)</td><td>P103</td></tr><tr><td>O1008</td><td>List(P103, P110, P101, P102, P109)</td><td>P110</td></tr><tr><td>O1008</td><td>List(P103, P110, P101, P102, P109)</td><td>P101</td></tr><tr><td>O1008</td><td>List(P103, P110, P101, P102, P109)</td><td>P102</td></tr><tr><td>O1008</td><td>List(P103, P110, P101, P102, P109)</td><td>P109</td></tr><tr><td>O1013</td><td>List(P103, P101, P105, P107, P109)</td><td>P103</td></tr><tr><td>O1013</td><td>List(P103, P101, P105, P107, P109)</td><td>P101</td></tr><tr><td>O1013</td><td>List(P103, P101, P105, P107, P109)</td><td>P105</td></tr><tr><td>O1013</td><td>List(P103, P101, P105, P107, P109)</td><td>P107</td></tr><tr><td>O1013</td><td>List(P103, P101, P105, P107, P109)</td><td>P109</td></tr><tr><td>O1010</td><td>List(P110, P108, P109)</td><td>P110</td></tr><tr><td>O1010</td><td>List(P110, P108, P109)</td><td>P108</td></tr><tr><td>O1010</td><td>List(P110, P108, P109)</td><td>P109</td></tr><tr><td>O1005</td><td>List(P110, P101, P102)</td><td>P110</td></tr><tr><td>O1005</td><td>List(P110, P101, P102)</td><td>P101</td></tr><tr><td>O1005</td><td>List(P110, P101, P102)</td><td>P102</td></tr></tbody></table></div>"
      ]
     },
     "metadata": {
      "application/vnd.databricks.v1+output": {
       "addedWidgets": {},
       "aggData": [],
       "aggError": "",
       "aggOverflow": false,
       "aggSchema": [],
       "aggSeriesLimitReached": false,
       "aggType": "",
       "arguments": {},
       "columnCustomDisplayInfos": {},
       "data": [
        [
         "O1006",
         [
          "P104",
          "P103",
          "P105"
         ],
         "P104"
        ],
        [
         "O1006",
         [
          "P104",
          "P103",
          "P105"
         ],
         "P103"
        ],
        [
         "O1006",
         [
          "P104",
          "P103",
          "P105"
         ],
         "P105"
        ],
        [
         "O1002",
         [
          "P104",
          "P101",
          "P105",
          "P102"
         ],
         "P104"
        ],
        [
         "O1002",
         [
          "P104",
          "P101",
          "P105",
          "P102"
         ],
         "P101"
        ],
        [
         "O1002",
         [
          "P104",
          "P101",
          "P105",
          "P102"
         ],
         "P105"
        ],
        [
         "O1002",
         [
          "P104",
          "P101",
          "P105",
          "P102"
         ],
         "P102"
        ],
        [
         "O1004",
         [
          "P101",
          "P108",
          "P107",
          "P109"
         ],
         "P101"
        ],
        [
         "O1004",
         [
          "P101",
          "P108",
          "P107",
          "P109"
         ],
         "P108"
        ],
        [
         "O1004",
         [
          "P101",
          "P108",
          "P107",
          "P109"
         ],
         "P107"
        ],
        [
         "O1004",
         [
          "P101",
          "P108",
          "P107",
          "P109"
         ],
         "P109"
        ],
        [
         "O1009",
         [
          "P104",
          "P106",
          "P105",
          "P107"
         ],
         "P104"
        ],
        [
         "O1009",
         [
          "P104",
          "P106",
          "P105",
          "P107"
         ],
         "P106"
        ],
        [
         "O1009",
         [
          "P104",
          "P106",
          "P105",
          "P107"
         ],
         "P105"
        ],
        [
         "O1009",
         [
          "P104",
          "P106",
          "P105",
          "P107"
         ],
         "P107"
        ],
        [
         "O1007",
         [
          "P106",
          "P108",
          "P107"
         ],
         "P106"
        ],
        [
         "O1007",
         [
          "P106",
          "P108",
          "P107"
         ],
         "P108"
        ],
        [
         "O1007",
         [
          "P106",
          "P108",
          "P107"
         ],
         "P107"
        ],
        [
         "O1001",
         [
          "P103",
          "P101",
          "P102"
         ],
         "P103"
        ],
        [
         "O1001",
         [
          "P103",
          "P101",
          "P102"
         ],
         "P101"
        ],
        [
         "O1001",
         [
          "P103",
          "P101",
          "P102"
         ],
         "P102"
        ],
        [
         "O1011",
         [
          "P104",
          "P103",
          "P101",
          "P105",
          "P102"
         ],
         "P104"
        ],
        [
         "O1011",
         [
          "P104",
          "P103",
          "P101",
          "P105",
          "P102"
         ],
         "P103"
        ],
        [
         "O1011",
         [
          "P104",
          "P103",
          "P101",
          "P105",
          "P102"
         ],
         "P101"
        ],
        [
         "O1011",
         [
          "P104",
          "P103",
          "P101",
          "P105",
          "P102"
         ],
         "P105"
        ],
        [
         "O1011",
         [
          "P104",
          "P103",
          "P101",
          "P105",
          "P102"
         ],
         "P102"
        ],
        [
         "O1012",
         [
          "P106",
          "P110",
          "P108",
          "P107",
          "P109"
         ],
         "P106"
        ],
        [
         "O1012",
         [
          "P106",
          "P110",
          "P108",
          "P107",
          "P109"
         ],
         "P110"
        ],
        [
         "O1012",
         [
          "P106",
          "P110",
          "P108",
          "P107",
          "P109"
         ],
         "P108"
        ],
        [
         "O1012",
         [
          "P106",
          "P110",
          "P108",
          "P107",
          "P109"
         ],
         "P107"
        ],
        [
         "O1012",
         [
          "P106",
          "P110",
          "P108",
          "P107",
          "P109"
         ],
         "P109"
        ],
        [
         "O1003",
         [
          "P103",
          "P106"
         ],
         "P103"
        ],
        [
         "O1003",
         [
          "P103",
          "P106"
         ],
         "P106"
        ],
        [
         "O1014",
         [
          "P104",
          "P106",
          "P110",
          "P102",
          "P108"
         ],
         "P104"
        ],
        [
         "O1014",
         [
          "P104",
          "P106",
          "P110",
          "P102",
          "P108"
         ],
         "P106"
        ],
        [
         "O1014",
         [
          "P104",
          "P106",
          "P110",
          "P102",
          "P108"
         ],
         "P110"
        ],
        [
         "O1014",
         [
          "P104",
          "P106",
          "P110",
          "P102",
          "P108"
         ],
         "P102"
        ],
        [
         "O1014",
         [
          "P104",
          "P106",
          "P110",
          "P102",
          "P108"
         ],
         "P108"
        ],
        [
         "O1008",
         [
          "P103",
          "P110",
          "P101",
          "P102",
          "P109"
         ],
         "P103"
        ],
        [
         "O1008",
         [
          "P103",
          "P110",
          "P101",
          "P102",
          "P109"
         ],
         "P110"
        ],
        [
         "O1008",
         [
          "P103",
          "P110",
          "P101",
          "P102",
          "P109"
         ],
         "P101"
        ],
        [
         "O1008",
         [
          "P103",
          "P110",
          "P101",
          "P102",
          "P109"
         ],
         "P102"
        ],
        [
         "O1008",
         [
          "P103",
          "P110",
          "P101",
          "P102",
          "P109"
         ],
         "P109"
        ],
        [
         "O1013",
         [
          "P103",
          "P101",
          "P105",
          "P107",
          "P109"
         ],
         "P103"
        ],
        [
         "O1013",
         [
          "P103",
          "P101",
          "P105",
          "P107",
          "P109"
         ],
         "P101"
        ],
        [
         "O1013",
         [
          "P103",
          "P101",
          "P105",
          "P107",
          "P109"
         ],
         "P105"
        ],
        [
         "O1013",
         [
          "P103",
          "P101",
          "P105",
          "P107",
          "P109"
         ],
         "P107"
        ],
        [
         "O1013",
         [
          "P103",
          "P101",
          "P105",
          "P107",
          "P109"
         ],
         "P109"
        ],
        [
         "O1010",
         [
          "P110",
          "P108",
          "P109"
         ],
         "P110"
        ],
        [
         "O1010",
         [
          "P110",
          "P108",
          "P109"
         ],
         "P108"
        ],
        [
         "O1010",
         [
          "P110",
          "P108",
          "P109"
         ],
         "P109"
        ],
        [
         "O1005",
         [
          "P110",
          "P101",
          "P102"
         ],
         "P110"
        ],
        [
         "O1005",
         [
          "P110",
          "P101",
          "P102"
         ],
         "P101"
        ],
        [
         "O1005",
         [
          "P110",
          "P101",
          "P102"
         ],
         "P102"
        ]
       ],
       "datasetInfos": [],
       "dbfsResultPath": null,
       "isJsonSchema": true,
       "metadata": {},
       "overflow": false,
       "plotOptions": {
        "customPlotOptions": {},
        "displayType": "table",
        "pivotAggregation": null,
        "pivotColumns": null,
        "xColumns": null,
        "yColumns": null
       },
       "removedWidgets": [],
       "schema": [
        {
         "metadata": "{}",
         "name": "order_id",
         "type": "\"string\""
        },
        {
         "metadata": "{}",
         "name": "products",
         "type": "{\"type\":\"array\",\"elementType\":\"string\",\"containsNull\":false}"
        },
        {
         "metadata": "{}",
         "name": "product",
         "type": "\"string\""
        }
       ],
       "type": "table"
      }
     },
     "output_type": "display_data"
    }
   ],
   "source": [
    "# Create a basket of products per order\n",
    "df_basket = df.groupBy(\"order_id\").agg(collect_set(\"product_id\").alias(\"products\"))\n",
    "display(df_basket)\n",
    "\n",
    "# Explode the basket so we have a row per product per order\n",
    "df_exploded = df_basket.withColumn(\"product\", explode(\"products\"))\n",
    "display(df_exploded)"
   ]
  },
  {
   "cell_type": "code",
   "execution_count": 0,
   "metadata": {
    "application/vnd.databricks.v1+cell": {
     "cellMetadata": {
      "byteLimit": 2048000,
      "rowLimit": 10000
     },
     "inputWidgets": {},
     "nuid": "af2481d4-76ae-4b4b-b943-fbaade8a9355",
     "showTitle": false,
     "tableResultSettingsMap": {},
     "title": ""
    }
   },
   "outputs": [
    {
     "output_type": "display_data",
     "data": {
      "text/html": [
       "<style scoped>\n",
       "  .table-result-container {\n",
       "    max-height: 300px;\n",
       "    overflow: auto;\n",
       "  }\n",
       "  table, th, td {\n",
       "    border: 1px solid black;\n",
       "    border-collapse: collapse;\n",
       "  }\n",
       "  th, td {\n",
       "    padding: 5px;\n",
       "  }\n",
       "  th {\n",
       "    text-align: left;\n",
       "  }\n",
       "</style><div class='table-result-container'><table class='table-result'><thead style='background-color: white'><tr><th>product</th><th>co_product</th><th>count</th></tr></thead><tbody><tr><td>P101</td><td>P102</td><td>5</td></tr><tr><td>P101</td><td>P103</td><td>4</td></tr><tr><td>P101</td><td>P109</td><td>3</td></tr><tr><td>P101</td><td>P105</td><td>3</td></tr><tr><td>P101</td><td>P104</td><td>2</td></tr><tr><td>P101</td><td>P110</td><td>2</td></tr><tr><td>P101</td><td>P107</td><td>2</td></tr><tr><td>P101</td><td>P108</td><td>1</td></tr><tr><td>P102</td><td>P101</td><td>5</td></tr><tr><td>P102</td><td>P104</td><td>3</td></tr><tr><td>P102</td><td>P110</td><td>3</td></tr><tr><td>P102</td><td>P103</td><td>3</td></tr><tr><td>P102</td><td>P105</td><td>2</td></tr><tr><td>P102</td><td>P108</td><td>1</td></tr><tr><td>P102</td><td>P106</td><td>1</td></tr><tr><td>P102</td><td>P109</td><td>1</td></tr><tr><td>P103</td><td>P101</td><td>4</td></tr><tr><td>P103</td><td>P102</td><td>3</td></tr><tr><td>P103</td><td>P105</td><td>3</td></tr><tr><td>P103</td><td>P109</td><td>2</td></tr><tr><td>P103</td><td>P104</td><td>2</td></tr><tr><td>P103</td><td>P107</td><td>1</td></tr><tr><td>P103</td><td>P106</td><td>1</td></tr><tr><td>P103</td><td>P110</td><td>1</td></tr><tr><td>P104</td><td>P105</td><td>4</td></tr><tr><td>P104</td><td>P102</td><td>3</td></tr><tr><td>P104</td><td>P101</td><td>2</td></tr><tr><td>P104</td><td>P103</td><td>2</td></tr><tr><td>P104</td><td>P106</td><td>2</td></tr><tr><td>P104</td><td>P110</td><td>1</td></tr><tr><td>P104</td><td>P107</td><td>1</td></tr><tr><td>P104</td><td>P108</td><td>1</td></tr><tr><td>P105</td><td>P104</td><td>4</td></tr><tr><td>P105</td><td>P101</td><td>3</td></tr><tr><td>P105</td><td>P103</td><td>3</td></tr><tr><td>P105</td><td>P107</td><td>2</td></tr><tr><td>P105</td><td>P102</td><td>2</td></tr><tr><td>P105</td><td>P109</td><td>1</td></tr><tr><td>P105</td><td>P106</td><td>1</td></tr><tr><td>P106</td><td>P107</td><td>3</td></tr><tr><td>P106</td><td>P108</td><td>3</td></tr><tr><td>P106</td><td>P104</td><td>2</td></tr><tr><td>P106</td><td>P110</td><td>2</td></tr><tr><td>P106</td><td>P102</td><td>1</td></tr><tr><td>P106</td><td>P105</td><td>1</td></tr><tr><td>P106</td><td>P109</td><td>1</td></tr><tr><td>P106</td><td>P103</td><td>1</td></tr><tr><td>P107</td><td>P109</td><td>3</td></tr><tr><td>P107</td><td>P108</td><td>3</td></tr><tr><td>P107</td><td>P106</td><td>3</td></tr><tr><td>P107</td><td>P105</td><td>2</td></tr><tr><td>P107</td><td>P101</td><td>2</td></tr><tr><td>P107</td><td>P110</td><td>1</td></tr><tr><td>P107</td><td>P104</td><td>1</td></tr><tr><td>P107</td><td>P103</td><td>1</td></tr><tr><td>P108</td><td>P106</td><td>3</td></tr><tr><td>P108</td><td>P109</td><td>3</td></tr><tr><td>P108</td><td>P107</td><td>3</td></tr><tr><td>P108</td><td>P110</td><td>3</td></tr><tr><td>P108</td><td>P102</td><td>1</td></tr><tr><td>P108</td><td>P101</td><td>1</td></tr><tr><td>P108</td><td>P104</td><td>1</td></tr><tr><td>P109</td><td>P101</td><td>3</td></tr><tr><td>P109</td><td>P107</td><td>3</td></tr><tr><td>P109</td><td>P110</td><td>3</td></tr><tr><td>P109</td><td>P108</td><td>3</td></tr><tr><td>P109</td><td>P103</td><td>2</td></tr><tr><td>P109</td><td>P102</td><td>1</td></tr><tr><td>P109</td><td>P106</td><td>1</td></tr><tr><td>P109</td><td>P105</td><td>1</td></tr><tr><td>P110</td><td>P102</td><td>3</td></tr><tr><td>P110</td><td>P108</td><td>3</td></tr><tr><td>P110</td><td>P109</td><td>3</td></tr><tr><td>P110</td><td>P101</td><td>2</td></tr><tr><td>P110</td><td>P106</td><td>2</td></tr><tr><td>P110</td><td>P104</td><td>1</td></tr><tr><td>P110</td><td>P107</td><td>1</td></tr><tr><td>P110</td><td>P103</td><td>1</td></tr></tbody></table></div>"
      ]
     },
     "metadata": {
      "application/vnd.databricks.v1+output": {
       "addedWidgets": {},
       "aggData": [],
       "aggError": "",
       "aggOverflow": false,
       "aggSchema": [],
       "aggSeriesLimitReached": false,
       "aggType": "",
       "arguments": {},
       "columnCustomDisplayInfos": {},
       "data": [
        [
         "P101",
         "P102",
         5
        ],
        [
         "P101",
         "P103",
         4
        ],
        [
         "P101",
         "P109",
         3
        ],
        [
         "P101",
         "P105",
         3
        ],
        [
         "P101",
         "P104",
         2
        ],
        [
         "P101",
         "P110",
         2
        ],
        [
         "P101",
         "P107",
         2
        ],
        [
         "P101",
         "P108",
         1
        ],
        [
         "P102",
         "P101",
         5
        ],
        [
         "P102",
         "P104",
         3
        ],
        [
         "P102",
         "P110",
         3
        ],
        [
         "P102",
         "P103",
         3
        ],
        [
         "P102",
         "P105",
         2
        ],
        [
         "P102",
         "P108",
         1
        ],
        [
         "P102",
         "P106",
         1
        ],
        [
         "P102",
         "P109",
         1
        ],
        [
         "P103",
         "P101",
         4
        ],
        [
         "P103",
         "P102",
         3
        ],
        [
         "P103",
         "P105",
         3
        ],
        [
         "P103",
         "P109",
         2
        ],
        [
         "P103",
         "P104",
         2
        ],
        [
         "P103",
         "P107",
         1
        ],
        [
         "P103",
         "P106",
         1
        ],
        [
         "P103",
         "P110",
         1
        ],
        [
         "P104",
         "P105",
         4
        ],
        [
         "P104",
         "P102",
         3
        ],
        [
         "P104",
         "P101",
         2
        ],
        [
         "P104",
         "P103",
         2
        ],
        [
         "P104",
         "P106",
         2
        ],
        [
         "P104",
         "P110",
         1
        ],
        [
         "P104",
         "P107",
         1
        ],
        [
         "P104",
         "P108",
         1
        ],
        [
         "P105",
         "P104",
         4
        ],
        [
         "P105",
         "P101",
         3
        ],
        [
         "P105",
         "P103",
         3
        ],
        [
         "P105",
         "P107",
         2
        ],
        [
         "P105",
         "P102",
         2
        ],
        [
         "P105",
         "P109",
         1
        ],
        [
         "P105",
         "P106",
         1
        ],
        [
         "P106",
         "P107",
         3
        ],
        [
         "P106",
         "P108",
         3
        ],
        [
         "P106",
         "P104",
         2
        ],
        [
         "P106",
         "P110",
         2
        ],
        [
         "P106",
         "P102",
         1
        ],
        [
         "P106",
         "P105",
         1
        ],
        [
         "P106",
         "P109",
         1
        ],
        [
         "P106",
         "P103",
         1
        ],
        [
         "P107",
         "P109",
         3
        ],
        [
         "P107",
         "P108",
         3
        ],
        [
         "P107",
         "P106",
         3
        ],
        [
         "P107",
         "P105",
         2
        ],
        [
         "P107",
         "P101",
         2
        ],
        [
         "P107",
         "P110",
         1
        ],
        [
         "P107",
         "P104",
         1
        ],
        [
         "P107",
         "P103",
         1
        ],
        [
         "P108",
         "P106",
         3
        ],
        [
         "P108",
         "P109",
         3
        ],
        [
         "P108",
         "P107",
         3
        ],
        [
         "P108",
         "P110",
         3
        ],
        [
         "P108",
         "P102",
         1
        ],
        [
         "P108",
         "P101",
         1
        ],
        [
         "P108",
         "P104",
         1
        ],
        [
         "P109",
         "P101",
         3
        ],
        [
         "P109",
         "P107",
         3
        ],
        [
         "P109",
         "P110",
         3
        ],
        [
         "P109",
         "P108",
         3
        ],
        [
         "P109",
         "P103",
         2
        ],
        [
         "P109",
         "P102",
         1
        ],
        [
         "P109",
         "P106",
         1
        ],
        [
         "P109",
         "P105",
         1
        ],
        [
         "P110",
         "P102",
         3
        ],
        [
         "P110",
         "P108",
         3
        ],
        [
         "P110",
         "P109",
         3
        ],
        [
         "P110",
         "P101",
         2
        ],
        [
         "P110",
         "P106",
         2
        ],
        [
         "P110",
         "P104",
         1
        ],
        [
         "P110",
         "P107",
         1
        ],
        [
         "P110",
         "P103",
         1
        ]
       ],
       "datasetInfos": [],
       "dbfsResultPath": null,
       "isJsonSchema": true,
       "metadata": {},
       "overflow": false,
       "plotOptions": {
        "customPlotOptions": {},
        "displayType": "table",
        "pivotAggregation": null,
        "pivotColumns": null,
        "xColumns": null,
        "yColumns": null
       },
       "removedWidgets": [],
       "schema": [
        {
         "metadata": "{}",
         "name": "product",
         "type": "\"string\""
        },
        {
         "metadata": "{}",
         "name": "co_product",
         "type": "\"string\""
        },
        {
         "metadata": "{}",
         "name": "count",
         "type": "\"long\""
        }
       ],
       "type": "table"
      }
     },
     "output_type": "display_data"
    },
    {
     "output_type": "display_data",
     "data": {
      "text/html": [
       "<style scoped>\n",
       "  .table-result-container {\n",
       "    max-height: 300px;\n",
       "    overflow: auto;\n",
       "  }\n",
       "  table, th, td {\n",
       "    border: 1px solid black;\n",
       "    border-collapse: collapse;\n",
       "  }\n",
       "  th, td {\n",
       "    padding: 5px;\n",
       "  }\n",
       "  th {\n",
       "    text-align: left;\n",
       "  }\n",
       "</style><div class='table-result-container'><table class='table-result'><thead style='background-color: white'><tr><th>product</th><th>co_product</th><th>count</th></tr></thead><tbody><tr><td>P101</td><td>P102</td><td>5</td></tr><tr><td>P101</td><td>P103</td><td>4</td></tr><tr><td>P101</td><td>P109</td><td>3</td></tr><tr><td>P101</td><td>P105</td><td>3</td></tr><tr><td>P101</td><td>P104</td><td>2</td></tr></tbody></table></div>"
      ]
     },
     "metadata": {
      "application/vnd.databricks.v1+output": {
       "addedWidgets": {},
       "aggData": [],
       "aggError": "",
       "aggOverflow": false,
       "aggSchema": [],
       "aggSeriesLimitReached": false,
       "aggType": "",
       "arguments": {},
       "columnCustomDisplayInfos": {},
       "data": [
        [
         "P101",
         "P102",
         5
        ],
        [
         "P101",
         "P103",
         4
        ],
        [
         "P101",
         "P109",
         3
        ],
        [
         "P101",
         "P105",
         3
        ],
        [
         "P101",
         "P104",
         2
        ]
       ],
       "datasetInfos": [],
       "dbfsResultPath": null,
       "isJsonSchema": true,
       "metadata": {},
       "overflow": false,
       "plotOptions": {
        "customPlotOptions": {},
        "displayType": "table",
        "pivotAggregation": null,
        "pivotColumns": null,
        "xColumns": null,
        "yColumns": null
       },
       "removedWidgets": [],
       "schema": [
        {
         "metadata": "{}",
         "name": "product",
         "type": "\"string\""
        },
        {
         "metadata": "{}",
         "name": "co_product",
         "type": "\"string\""
        },
        {
         "metadata": "{}",
         "name": "count",
         "type": "\"long\""
        }
       ],
       "type": "table"
      }
     },
     "output_type": "display_data"
    }
   ],
   "source": [
    "# Compute co-occurrence: For each product, find other products in the same order\n",
    "df_cooccurrence = df_exploded.alias(\"a\").join(\n",
    "    df_exploded.alias(\"b\"),\n",
    "    (F.col(\"a.order_id\") == F.col(\"b.order_id\")) & (F.col(\"a.product\") != F.col(\"b.product\")),\n",
    "    \"inner\"\n",
    ").select(F.col(\"a.product\").alias(\"product\"), F.col(\"b.product\").alias(\"co_product\"))\n",
    "\n",
    "# Count the co-occurrence frequency\n",
    "df_recommendation = df_cooccurrence.groupBy(\"product\", \"co_product\").count().orderBy(\"product\", F.desc(\"count\"))\n",
    "display(df_recommendation)\n",
    "\n",
    "# For a given product (for demo purposes), list top 5 co-purchased items\n",
    "product_of_interest = \"P101\"  # change to a valid product_id\n",
    "recommendations = df_recommendation.filter(F.col(\"product\") == product_of_interest).limit(5)\n",
    "display(recommendations)\n"
   ]
  }
 ],
 "metadata": {
  "application/vnd.databricks.v1+notebook": {
   "computePreferences": null,
   "dashboards": [],
   "environmentMetadata": {
    "base_environment": "",
    "environment_version": "1"
   },
   "inputWidgetPreferences": null,
   "language": "python",
   "notebookMetadata": {
    "pythonIndentUnit": 4
   },
   "notebookName": "product_reconmmendation",
   "widgets": {}
  }
 },
 "nbformat": 4,
 "nbformat_minor": 0
}