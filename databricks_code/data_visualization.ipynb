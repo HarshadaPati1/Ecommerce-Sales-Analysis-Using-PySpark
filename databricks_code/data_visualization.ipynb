{
 "cells": [
  {
   "cell_type": "code",
   "execution_count": 0,
   "metadata": {
    "application/vnd.databricks.v1+cell": {
     "cellMetadata": {
      "byteLimit": 2048000,
      "rowLimit": 10000
     },
     "inputWidgets": {},
     "nuid": "12b2d9c9-46e7-484c-a9ef-9de98d2405b4",
     "showTitle": false,
     "tableResultSettingsMap": {},
     "title": ""
    }
   },
   "outputs": [
    {
     "output_type": "display_data",
     "data": {
      "text/html": [
       "<style scoped>\n",
       "  .table-result-container {\n",
       "    max-height: 300px;\n",
       "    overflow: auto;\n",
       "  }\n",
       "  table, th, td {\n",
       "    border: 1px solid black;\n",
       "    border-collapse: collapse;\n",
       "  }\n",
       "  th, td {\n",
       "    padding: 5px;\n",
       "  }\n",
       "  th {\n",
       "    text-align: left;\n",
       "  }\n",
       "</style><div class='table-result-container'><table class='table-result'><thead style='background-color: white'><tr><th>order_id</th><th>sale_date</th><th>price</th><th>product_id</th><th>category</th><th>year</th></tr></thead><tbody><tr><td>O1001</td><td>2023-01-15</td><td>120.5</td><td>P101</td><td>Electronics</td><td>2023</td></tr><tr><td>O1001</td><td>2023-01-15</td><td>45.0</td><td>P102</td><td>Books</td><td>2023</td></tr><tr><td>O1001</td><td>2023-01-15</td><td>85.99</td><td>P103</td><td>Clothing</td><td>2023</td></tr><tr><td>O1002</td><td>2023-01-16</td><td>50.0</td><td>P102</td><td>Books</td><td>2023</td></tr><tr><td>O1002</td><td>2023-01-16</td><td>110.0</td><td>P104</td><td>Home</td><td>2023</td></tr><tr><td>O1002</td><td>2023-01-16</td><td>99.99</td><td>P105</td><td>Beauty</td><td>2023</td></tr><tr><td>O1002</td><td>2023-01-16</td><td>210.0</td><td>P101</td><td>Electronics</td><td>2023</td></tr><tr><td>O1003</td><td>2023-01-17</td><td>75.0</td><td>P103</td><td>Clothing</td><td>2023</td></tr><tr><td>O1003</td><td>2023-01-17</td><td>60.0</td><td>P106</td><td>Sports</td><td>2023</td></tr><tr><td>O1004</td><td>2023-01-18</td><td>120.0</td><td>P101</td><td>Electronics</td><td>2023</td></tr><tr><td>O1004</td><td>2023-01-18</td><td>25.0</td><td>P107</td><td>Toys</td><td>2023</td></tr><tr><td>O1004</td><td>2023-01-18</td><td>55.75</td><td>P108</td><td>Clothing</td><td>2023</td></tr><tr><td>O1004</td><td>2023-01-18</td><td>250.0</td><td>P109</td><td>Home</td><td>2023</td></tr><tr><td>O1005</td><td>2023-01-19</td><td>65.0</td><td>P110</td><td>Garden</td><td>2023</td></tr><tr><td>O1005</td><td>2023-01-19</td><td>130.0</td><td>P101</td><td>Electronics</td><td>2023</td></tr><tr><td>O1005</td><td>2023-01-19</td><td>35.5</td><td>P102</td><td>Books</td><td>2023</td></tr><tr><td>O1006</td><td>2023-01-20</td><td>49.99</td><td>P103</td><td>Clothing</td><td>2023</td></tr><tr><td>O1006</td><td>2023-01-20</td><td>15.75</td><td>P104</td><td>Home</td><td>2023</td></tr><tr><td>O1006</td><td>2023-01-20</td><td>99.99</td><td>P105</td><td>Beauty</td><td>2023</td></tr><tr><td>O1007</td><td>2023-01-21</td><td>75.0</td><td>P106</td><td>Sports</td><td>2023</td></tr><tr><td>O1007</td><td>2023-01-21</td><td>20.0</td><td>P107</td><td>Toys</td><td>2023</td></tr><tr><td>O1007</td><td>2023-01-21</td><td>55.75</td><td>P108</td><td>Clothing</td><td>2023</td></tr><tr><td>O1008</td><td>2023-01-22</td><td>250.0</td><td>P109</td><td>Home</td><td>2023</td></tr><tr><td>O1008</td><td>2023-01-22</td><td>65.0</td><td>P110</td><td>Garden</td><td>2023</td></tr><tr><td>O1008</td><td>2023-01-22</td><td>120.5</td><td>P101</td><td>Electronics</td><td>2023</td></tr><tr><td>O1008</td><td>2023-01-22</td><td>45.0</td><td>P102</td><td>Books</td><td>2023</td></tr><tr><td>O1008</td><td>2023-01-22</td><td>85.99</td><td>P103</td><td>Clothing</td><td>2023</td></tr><tr><td>O1009</td><td>2023-01-23</td><td>50.0</td><td>P104</td><td>Home</td><td>2023</td></tr><tr><td>O1009</td><td>2023-01-23</td><td>99.99</td><td>P105</td><td>Beauty</td><td>2023</td></tr><tr><td>O1009</td><td>2023-01-23</td><td>75.0</td><td>P106</td><td>Sports</td><td>2023</td></tr><tr><td>O1009</td><td>2023-01-23</td><td>25.0</td><td>P107</td><td>Toys</td><td>2023</td></tr><tr><td>O1010</td><td>2023-01-24</td><td>55.75</td><td>P108</td><td>Clothing</td><td>2023</td></tr><tr><td>O1010</td><td>2023-01-24</td><td>250.0</td><td>P109</td><td>Home</td><td>2023</td></tr><tr><td>O1010</td><td>2023-01-24</td><td>65.0</td><td>P110</td><td>Garden</td><td>2023</td></tr><tr><td>O1011</td><td>2023-01-25</td><td>120.5</td><td>P101</td><td>Electronics</td><td>2023</td></tr><tr><td>O1011</td><td>2023-01-25</td><td>45.0</td><td>P102</td><td>Books</td><td>2023</td></tr><tr><td>O1011</td><td>2023-01-25</td><td>85.99</td><td>P103</td><td>Clothing</td><td>2023</td></tr><tr><td>O1011</td><td>2023-01-25</td><td>110.0</td><td>P104</td><td>Home</td><td>2023</td></tr><tr><td>O1011</td><td>2023-01-25</td><td>99.99</td><td>P105</td><td>Beauty</td><td>2023</td></tr><tr><td>O1012</td><td>2023-01-26</td><td>75.0</td><td>P106</td><td>Sports</td><td>2023</td></tr><tr><td>O1012</td><td>2023-01-26</td><td>20.0</td><td>P107</td><td>Toys</td><td>2023</td></tr><tr><td>O1012</td><td>2023-01-26</td><td>55.75</td><td>P108</td><td>Clothing</td><td>2023</td></tr><tr><td>O1012</td><td>2023-01-26</td><td>250.0</td><td>P109</td><td>Home</td><td>2023</td></tr><tr><td>O1012</td><td>2023-01-26</td><td>65.0</td><td>P110</td><td>Garden</td><td>2023</td></tr><tr><td>O1013</td><td>2023-01-27</td><td>120.5</td><td>P101</td><td>Electronics</td><td>2023</td></tr><tr><td>O1013</td><td>2023-01-27</td><td>85.99</td><td>P103</td><td>Clothing</td><td>2023</td></tr><tr><td>O1013</td><td>2023-01-27</td><td>99.99</td><td>P105</td><td>Beauty</td><td>2023</td></tr><tr><td>O1013</td><td>2023-01-27</td><td>20.0</td><td>P107</td><td>Toys</td><td>2023</td></tr><tr><td>O1013</td><td>2023-01-27</td><td>250.0</td><td>P109</td><td>Home</td><td>2023</td></tr><tr><td>O1014</td><td>2023-01-28</td><td>45.0</td><td>P102</td><td>Books</td><td>2023</td></tr><tr><td>O1014</td><td>2023-01-28</td><td>110.0</td><td>P104</td><td>Home</td><td>2023</td></tr><tr><td>O1014</td><td>2023-01-28</td><td>75.0</td><td>P106</td><td>Sports</td><td>2023</td></tr><tr><td>O1014</td><td>2023-01-28</td><td>55.75</td><td>P108</td><td>Clothing</td><td>2023</td></tr><tr><td>O1014</td><td>2023-01-28</td><td>65.0</td><td>P110</td><td>Garden</td><td>2023</td></tr></tbody></table></div>"
      ]
     },
     "metadata": {
      "application/vnd.databricks.v1+output": {
       "addedWidgets": {},
       "aggData": [],
       "aggError": "",
       "aggOverflow": false,
       "aggSchema": [],
       "aggSeriesLimitReached": false,
       "aggType": "",
       "arguments": {},
       "columnCustomDisplayInfos": {},
       "data": [
        [
         "O1001",
         "2023-01-15",
         120.5,
         "P101",
         "Electronics",
         2023
        ],
        [
         "O1001",
         "2023-01-15",
         45.0,
         "P102",
         "Books",
         2023
        ],
        [
         "O1001",
         "2023-01-15",
         85.99,
         "P103",
         "Clothing",
         2023
        ],
        [
         "O1002",
         "2023-01-16",
         50.0,
         "P102",
         "Books",
         2023
        ],
        [
         "O1002",
         "2023-01-16",
         110.0,
         "P104",
         "Home",
         2023
        ],
        [
         "O1002",
         "2023-01-16",
         99.99,
         "P105",
         "Beauty",
         2023
        ],
        [
         "O1002",
         "2023-01-16",
         210.0,
         "P101",
         "Electronics",
         2023
        ],
        [
         "O1003",
         "2023-01-17",
         75.0,
         "P103",
         "Clothing",
         2023
        ],
        [
         "O1003",
         "2023-01-17",
         60.0,
         "P106",
         "Sports",
         2023
        ],
        [
         "O1004",
         "2023-01-18",
         120.0,
         "P101",
         "Electronics",
         2023
        ],
        [
         "O1004",
         "2023-01-18",
         25.0,
         "P107",
         "Toys",
         2023
        ],
        [
         "O1004",
         "2023-01-18",
         55.75,
         "P108",
         "Clothing",
         2023
        ],
        [
         "O1004",
         "2023-01-18",
         250.0,
         "P109",
         "Home",
         2023
        ],
        [
         "O1005",
         "2023-01-19",
         65.0,
         "P110",
         "Garden",
         2023
        ],
        [
         "O1005",
         "2023-01-19",
         130.0,
         "P101",
         "Electronics",
         2023
        ],
        [
         "O1005",
         "2023-01-19",
         35.5,
         "P102",
         "Books",
         2023
        ],
        [
         "O1006",
         "2023-01-20",
         49.99,
         "P103",
         "Clothing",
         2023
        ],
        [
         "O1006",
         "2023-01-20",
         15.75,
         "P104",
         "Home",
         2023
        ],
        [
         "O1006",
         "2023-01-20",
         99.99,
         "P105",
         "Beauty",
         2023
        ],
        [
         "O1007",
         "2023-01-21",
         75.0,
         "P106",
         "Sports",
         2023
        ],
        [
         "O1007",
         "2023-01-21",
         20.0,
         "P107",
         "Toys",
         2023
        ],
        [
         "O1007",
         "2023-01-21",
         55.75,
         "P108",
         "Clothing",
         2023
        ],
        [
         "O1008",
         "2023-01-22",
         250.0,
         "P109",
         "Home",
         2023
        ],
        [
         "O1008",
         "2023-01-22",
         65.0,
         "P110",
         "Garden",
         2023
        ],
        [
         "O1008",
         "2023-01-22",
         120.5,
         "P101",
         "Electronics",
         2023
        ],
        [
         "O1008",
         "2023-01-22",
         45.0,
         "P102",
         "Books",
         2023
        ],
        [
         "O1008",
         "2023-01-22",
         85.99,
         "P103",
         "Clothing",
         2023
        ],
        [
         "O1009",
         "2023-01-23",
         50.0,
         "P104",
         "Home",
         2023
        ],
        [
         "O1009",
         "2023-01-23",
         99.99,
         "P105",
         "Beauty",
         2023
        ],
        [
         "O1009",
         "2023-01-23",
         75.0,
         "P106",
         "Sports",
         2023
        ],
        [
         "O1009",
         "2023-01-23",
         25.0,
         "P107",
         "Toys",
         2023
        ],
        [
         "O1010",
         "2023-01-24",
         55.75,
         "P108",
         "Clothing",
         2023
        ],
        [
         "O1010",
         "2023-01-24",
         250.0,
         "P109",
         "Home",
         2023
        ],
        [
         "O1010",
         "2023-01-24",
         65.0,
         "P110",
         "Garden",
         2023
        ],
        [
         "O1011",
         "2023-01-25",
         120.5,
         "P101",
         "Electronics",
         2023
        ],
        [
         "O1011",
         "2023-01-25",
         45.0,
         "P102",
         "Books",
         2023
        ],
        [
         "O1011",
         "2023-01-25",
         85.99,
         "P103",
         "Clothing",
         2023
        ],
        [
         "O1011",
         "2023-01-25",
         110.0,
         "P104",
         "Home",
         2023
        ],
        [
         "O1011",
         "2023-01-25",
         99.99,
         "P105",
         "Beauty",
         2023
        ],
        [
         "O1012",
         "2023-01-26",
         75.0,
         "P106",
         "Sports",
         2023
        ],
        [
         "O1012",
         "2023-01-26",
         20.0,
         "P107",
         "Toys",
         2023
        ],
        [
         "O1012",
         "2023-01-26",
         55.75,
         "P108",
         "Clothing",
         2023
        ],
        [
         "O1012",
         "2023-01-26",
         250.0,
         "P109",
         "Home",
         2023
        ],
        [
         "O1012",
         "2023-01-26",
         65.0,
         "P110",
         "Garden",
         2023
        ],
        [
         "O1013",
         "2023-01-27",
         120.5,
         "P101",
         "Electronics",
         2023
        ],
        [
         "O1013",
         "2023-01-27",
         85.99,
         "P103",
         "Clothing",
         2023
        ],
        [
         "O1013",
         "2023-01-27",
         99.99,
         "P105",
         "Beauty",
         2023
        ],
        [
         "O1013",
         "2023-01-27",
         20.0,
         "P107",
         "Toys",
         2023
        ],
        [
         "O1013",
         "2023-01-27",
         250.0,
         "P109",
         "Home",
         2023
        ],
        [
         "O1014",
         "2023-01-28",
         45.0,
         "P102",
         "Books",
         2023
        ],
        [
         "O1014",
         "2023-01-28",
         110.0,
         "P104",
         "Home",
         2023
        ],
        [
         "O1014",
         "2023-01-28",
         75.0,
         "P106",
         "Sports",
         2023
        ],
        [
         "O1014",
         "2023-01-28",
         55.75,
         "P108",
         "Clothing",
         2023
        ],
        [
         "O1014",
         "2023-01-28",
         65.0,
         "P110",
         "Garden",
         2023
        ]
       ],
       "datasetInfos": [],
       "dbfsResultPath": null,
       "isJsonSchema": true,
       "metadata": {},
       "overflow": false,
       "plotOptions": {
        "customPlotOptions": {},
        "displayType": "table",
        "pivotAggregation": null,
        "pivotColumns": null,
        "xColumns": null,
        "yColumns": null
       },
       "removedWidgets": [],
       "schema": [
        {
         "metadata": "{}",
         "name": "order_id",
         "type": "\"string\""
        },
        {
         "metadata": "{}",
         "name": "sale_date",
         "type": "\"date\""
        },
        {
         "metadata": "{}",
         "name": "price",
         "type": "\"float\""
        },
        {
         "metadata": "{}",
         "name": "product_id",
         "type": "\"string\""
        },
        {
         "metadata": "{}",
         "name": "category",
         "type": "\"string\""
        },
        {
         "metadata": "{}",
         "name": "year",
         "type": "\"integer\""
        }
       ],
       "type": "table"
      }
     },
     "output_type": "display_data"
    }
   ],
   "source": [
    "# Databricks Notebook: 4_Data_Visualization\n",
    "# This notebook demonstrates how to visualize key metrics from the e-commerce sales data.\n",
    "\n",
    "from pyspark.sql import SparkSession\n",
    "from pyspark.sql.functions import sum, desc\n",
    "import matplotlib.pyplot as plt\n",
    "from pyspark.sql.functions import count\n",
    "\n",
    "# Initialize Spark session (Databricks automatically provides 'spark')\n",
    "spark = SparkSession.builder.appName(\"DataVisualization\").getOrCreate()\n",
    "\n",
    "# Read the cleaned data from the Delta table\n",
    "df = spark.sql(\"SELECT * FROM ecommerce_sales_cleaned\")\n",
    "display(df) "
   ]
  },
  {
   "cell_type": "code",
   "execution_count": 0,
   "metadata": {
    "application/vnd.databricks.v1+cell": {
     "cellMetadata": {
      "byteLimit": 2048000,
      "rowLimit": 10000
     },
     "inputWidgets": {},
     "nuid": "a8ab251e-560c-4a41-a60f-f9fad9e1a52a",
     "showTitle": false,
     "tableResultSettingsMap": {},
     "title": ""
    }
   },
   "outputs": [
    {
     "output_type": "display_data",
     "data": {
      "text/html": [
       "<style scoped>\n",
       "  .table-result-container {\n",
       "    max-height: 300px;\n",
       "    overflow: auto;\n",
       "  }\n",
       "  table, th, td {\n",
       "    border: 1px solid black;\n",
       "    border-collapse: collapse;\n",
       "  }\n",
       "  th, td {\n",
       "    padding: 5px;\n",
       "  }\n",
       "  th {\n",
       "    text-align: left;\n",
       "  }\n",
       "</style><div class='table-result-container'><table class='table-result'><thead style='background-color: white'><tr><th>year</th><th>total_revenue</th></tr></thead><tbody><tr><td>2023</td><td>4895.899982452393</td></tr></tbody></table></div>"
      ]
     },
     "metadata": {
      "application/vnd.databricks.v1+output": {
       "addedWidgets": {},
       "aggData": [],
       "aggError": "",
       "aggOverflow": false,
       "aggSchema": [],
       "aggSeriesLimitReached": false,
       "aggType": "",
       "arguments": {},
       "columnCustomDisplayInfos": {},
       "data": [
        [
         2023,
         4895.899982452393
        ]
       ],
       "datasetInfos": [],
       "dbfsResultPath": null,
       "isJsonSchema": true,
       "metadata": {},
       "overflow": false,
       "plotOptions": {
        "customPlotOptions": {},
        "displayType": "table",
        "pivotAggregation": null,
        "pivotColumns": null,
        "xColumns": null,
        "yColumns": null
       },
       "removedWidgets": [],
       "schema": [
        {
         "metadata": "{}",
         "name": "year",
         "type": "\"integer\""
        },
        {
         "metadata": "{}",
         "name": "total_revenue",
         "type": "\"double\""
        }
       ],
       "type": "table"
      }
     },
     "output_type": "display_data"
    },
    {
     "output_type": "display_data",
     "data": {
      "image/png": "[encoded data removed]",
      "text/plain": [
       "<Figure size 800x600 with 1 Axes>"
      ]
     },
     "metadata": {},
     "output_type": "display_data"
    }
   ],
   "source": [
    "# --- Revenue per Year Visualization ---\n",
    "\n",
    "# Aggregate revenue per year\n",
    "revenue_df = df.groupBy(\"year\").agg(sum(\"price\").alias(\"total_revenue\")).orderBy(\"year\")\n",
    "display(revenue_df)  # You can also use Databricks charting (click the chart icon)\n",
    "\n",
    "# Convert to Pandas DataFrame for Matplotlib visualization\n",
    "pandas_revenue = revenue_df.toPandas()\n",
    "\n",
    "plt.figure(figsize=(8, 6))\n",
    "plt.bar(pandas_revenue['year'].astype(str), pandas_revenue['total_revenue'], color='skyblue')\n",
    "plt.title(\"Total Revenue per Year\")\n",
    "plt.xlabel(\"Year\")\n",
    "plt.ylabel(\"Total Revenue\")\n",
    "plt.tight_layout()\n",
    "plt.show()"
   ]
  },
  {
   "cell_type": "code",
   "execution_count": 0,
   "metadata": {
    "application/vnd.databricks.v1+cell": {
     "cellMetadata": {
      "byteLimit": 2048000,
      "rowLimit": 10000
     },
     "inputWidgets": {},
     "nuid": "96a2e5bb-a389-4615-86bc-d955142f1ffe",
     "showTitle": false,
     "tableResultSettingsMap": {},
     "title": ""
    }
   },
   "outputs": [
    {
     "output_type": "display_data",
     "data": {
      "text/html": [
       "<style scoped>\n",
       "  .table-result-container {\n",
       "    max-height: 300px;\n",
       "    overflow: auto;\n",
       "  }\n",
       "  table, th, td {\n",
       "    border: 1px solid black;\n",
       "    border-collapse: collapse;\n",
       "  }\n",
       "  th, td {\n",
       "    padding: 5px;\n",
       "  }\n",
       "  th {\n",
       "    text-align: left;\n",
       "  }\n",
       "</style><div class='table-result-container'><table class='table-result'><thead style='background-color: white'><tr><th>product_id</th><th>total_revenue</th></tr></thead><tbody><tr><td>P109</td><td>1250.0</td></tr><tr><td>P101</td><td>942.0</td></tr><tr><td>P105</td><td>499.94998931884766</td></tr><tr><td>P103</td><td>468.9499931335449</td></tr><tr><td>P104</td><td>395.75</td></tr><tr><td>P106</td><td>360.0</td></tr><tr><td>P110</td><td>325.0</td></tr><tr><td>P108</td><td>278.75</td></tr><tr><td>P102</td><td>265.5</td></tr><tr><td>P107</td><td>110.0</td></tr></tbody></table></div>"
      ]
     },
     "metadata": {
      "application/vnd.databricks.v1+output": {
       "addedWidgets": {},
       "aggData": [],
       "aggError": "",
       "aggOverflow": false,
       "aggSchema": [],
       "aggSeriesLimitReached": false,
       "aggType": "",
       "arguments": {},
       "columnCustomDisplayInfos": {},
       "data": [
        [
         "P109",
         1250.0
        ],
        [
         "P101",
         942.0
        ],
        [
         "P105",
         499.94998931884766
        ],
        [
         "P103",
         468.9499931335449
        ],
        [
         "P104",
         395.75
        ],
        [
         "P106",
         360.0
        ],
        [
         "P110",
         325.0
        ],
        [
         "P108",
         278.75
        ],
        [
         "P102",
         265.5
        ],
        [
         "P107",
         110.0
        ]
       ],
       "datasetInfos": [],
       "dbfsResultPath": null,
       "isJsonSchema": true,
       "metadata": {},
       "overflow": false,
       "plotOptions": {
        "customPlotOptions": {},
        "displayType": "table",
        "pivotAggregation": null,
        "pivotColumns": null,
        "xColumns": null,
        "yColumns": null
       },
       "removedWidgets": [],
       "schema": [
        {
         "metadata": "{}",
         "name": "product_id",
         "type": "\"string\""
        },
        {
         "metadata": "{}",
         "name": "total_revenue",
         "type": "\"double\""
        }
       ],
       "type": "table"
      }
     },
     "output_type": "display_data"
    },
    {
     "output_type": "display_data",
     "data": {
      "image/png": "[encoded data removed]",
      "text/plain": [
       "<Figure size 1000x600 with 1 Axes>"
      ]
     },
     "metadata": {},
     "output_type": "display_data"
    }
   ],
   "source": [
    "# --- Top 10 Products by Revenue Visualization ---\n",
    "\n",
    "# Compute Top 10 products by revenue\n",
    "top_products_df = df.groupBy(\"product_id\").agg(sum(\"price\").alias(\"total_revenue\")).orderBy(desc(\"total_revenue\")).limit(10)\n",
    "display(top_products_df)  # Again, you can click on the built-in chart options in Databricks\n",
    "\n",
    "# Convert to Pandas DataFrame for Matplotlib visualization\n",
    "pandas_top_products = top_products_df.toPandas()\n",
    "\n",
    "plt.figure(figsize=(10, 6))\n",
    "plt.bar(pandas_top_products['product_id'], pandas_top_products['total_revenue'], color='salmon')\n",
    "plt.title(\"Top 10 Products by Revenue\")\n",
    "plt.xlabel(\"Product ID\")\n",
    "plt.ylabel(\"Total Revenue\")\n",
    "plt.tight_layout()\n",
    "plt.show()"
   ]
  },
  {
   "cell_type": "code",
   "execution_count": 0,
   "metadata": {
    "application/vnd.databricks.v1+cell": {
     "cellMetadata": {
      "byteLimit": 2048000,
      "rowLimit": 10000
     },
     "inputWidgets": {},
     "nuid": "6d9c1ca7-d1df-48d0-897b-c2a252692ff0",
     "showTitle": false,
     "tableResultSettingsMap": {},
     "title": ""
    }
   },
   "outputs": [
    {
     "output_type": "display_data",
     "data": {
      "text/html": [
       "<style scoped>\n",
       "  .table-result-container {\n",
       "    max-height: 300px;\n",
       "    overflow: auto;\n",
       "  }\n",
       "  table, th, td {\n",
       "    border: 1px solid black;\n",
       "    border-collapse: collapse;\n",
       "  }\n",
       "  th, td {\n",
       "    padding: 5px;\n",
       "  }\n",
       "  th {\n",
       "    text-align: left;\n",
       "  }\n",
       "</style><div class='table-result-container'><table class='table-result'><thead style='background-color: white'><tr><th>category</th><th>order_count</th></tr></thead><tbody><tr><td>Sports</td><td>5</td></tr><tr><td>Garden</td><td>5</td></tr><tr><td>Beauty</td><td>5</td></tr><tr><td>Toys</td><td>5</td></tr><tr><td>Books</td><td>6</td></tr><tr><td>Electronics</td><td>7</td></tr><tr><td>Home</td><td>10</td></tr><tr><td>Clothing</td><td>11</td></tr></tbody></table></div>"
      ]
     },
     "metadata": {
      "application/vnd.databricks.v1+output": {
       "addedWidgets": {},
       "aggData": [],
       "aggError": "",
       "aggOverflow": false,
       "aggSchema": [],
       "aggSeriesLimitReached": false,
       "aggType": "",
       "arguments": {},
       "columnCustomDisplayInfos": {},
       "data": [
        [
         "Sports",
         5
        ],
        [
         "Garden",
         5
        ],
        [
         "Beauty",
         5
        ],
        [
         "Toys",
         5
        ],
        [
         "Books",
         6
        ],
        [
         "Electronics",
         7
        ],
        [
         "Home",
         10
        ],
        [
         "Clothing",
         11
        ]
       ],
       "datasetInfos": [],
       "dbfsResultPath": null,
       "isJsonSchema": true,
       "metadata": {},
       "overflow": false,
       "plotOptions": {
        "customPlotOptions": {},
        "displayType": "table",
        "pivotAggregation": null,
        "pivotColumns": null,
        "xColumns": null,
        "yColumns": null
       },
       "removedWidgets": [],
       "schema": [
        {
         "metadata": "{}",
         "name": "category",
         "type": "\"string\""
        },
        {
         "metadata": "{}",
         "name": "order_count",
         "type": "\"long\""
        }
       ],
       "type": "table"
      }
     },
     "output_type": "display_data"
    },
    {
     "output_type": "display_data",
     "data": {
      "image/png": "[encoded data removed]",
      "text/plain": [
       "<Figure size 1000x600 with 1 Axes>"
      ]
     },
     "metadata": {},
     "output_type": "display_data"
    }
   ],
   "source": [
    "# --- Sales Count by Category Visualization ---\n",
    "\n",
    "# Aggregate order count per category\n",
    "category_count_df = df.groupBy(\"category\").agg(count(\"order_id\").alias(\"order_count\")).orderBy(\"order_count\")\n",
    "display(category_count_df)\n",
    "\n",
    "# Convert to Pandas DataFrame for Matplotlib visualization\n",
    "pandas_category_count = category_count_df.toPandas()\n",
    "\n",
    "plt.figure(figsize=(10, 6))\n",
    "plt.bar(pandas_category_count['category'], pandas_category_count['order_count'], color='lightgreen')\n",
    "plt.title(\"Sales Count by Category\")\n",
    "plt.xlabel(\"Category\")\n",
    "plt.ylabel(\"Number of Orders\")\n",
    "plt.tight_layout()\n",
    "plt.show()"
   ]
  }
 ],
 "metadata": {
  "application/vnd.databricks.v1+notebook": {
   "computePreferences": null,
   "dashboards": [],
   "environmentMetadata": {
    "base_environment": "",
    "environment_version": "1"
   },
   "inputWidgetPreferences": null,
   "language": "python",
   "notebookMetadata": {
    "pythonIndentUnit": 4
   },
   "notebookName": "data_visualization",
   "widgets": {}
  }
 },
 "nbformat": 4,
 "nbformat_minor": 0
}